{
  "cells": [
    {
      "cell_type": "markdown",
      "metadata": {
        "id": "CqyKl6OBsl9A"
      },
      "source": [
        "<h1 style=\"text-align: center;\">Image Classification with CNN<br><br>Malaria Data<br><h1>"
      ]
    },
    {
      "cell_type": "markdown",
      "metadata": {
        "id": "NgJ-_SBHsl9B"
      },
      "source": [
        "\n",
        "# Dataset Info\n",
        "\n",
        "The dataset contains 2 folders - 'parasitized', 'uninfected'\n",
        "\n",
        "And a total of 27,558 images.\n",
        "\n",
        "This Dataset is taken from the official NIH Website: https://ceb.nlm.nih.gov/repositories/malaria-datasets/ "
      ]
    },
    {
      "cell_type": "markdown",
      "metadata": {
        "id": "CMrNns6kobX7"
      },
      "source": [
        "# Import Libraries and Export Images from Zip_File"
      ]
    },
    {
      "cell_type": "code",
      "execution_count": 1,
      "metadata": {
        "id": "ULUCJSJzsl9C"
      },
      "outputs": [],
      "source": [
        "import os\n",
        "import numpy as np\n",
        "import pandas as pd\n",
        "import matplotlib.pyplot as plt\n",
        "import seaborn as sns\n",
        "from matplotlib.image import imread\n",
        "\n",
        "#import warnings\n",
        "#warnings.filterwarnings(\"ignore\")\n",
        "#warnings.warn(\"this will not show\")\n",
        "\n",
        "plt.rcParams[\"figure.figsize\"] = (10,6)\n",
        "\n",
        "sns.set_style(\"whitegrid\")\n",
        "pd.set_option('display.float_format', lambda x: '%.3f' % x)\n",
        "\n",
        "# Set it None to display all rows in the dataframe\n",
        "# pd.set_option('display.max_rows', None)\n",
        "\n",
        "# Set it to None to display all columns in the dataframe\n",
        "pd.set_option('display.max_columns', None)"
      ]
    },
    {
      "cell_type": "code",
      "execution_count": 2,
      "metadata": {
        "id": "eBfqbn-TgoA4",
        "colab": {
          "base_uri": "https://localhost:8080/"
        },
        "outputId": "6f44a8b7-e19d-4ec0-98ac-442fa3a2fd64"
      },
      "outputs": [
        {
          "output_type": "execute_result",
          "data": {
            "text/plain": [
              "[PhysicalDevice(name='/physical_device:GPU:0', device_type='GPU')]"
            ]
          },
          "metadata": {},
          "execution_count": 2
        }
      ],
      "source": [
        "import tensorflow as tf\n",
        "\n",
        "tf.config.list_physical_devices(\"GPU\")"
      ]
    },
    {
      "cell_type": "code",
      "execution_count": 3,
      "metadata": {
        "id": "GnnB7Iigsl9E",
        "colab": {
          "base_uri": "https://localhost:8080/"
        },
        "outputId": "73c5115f-ec52-4170-b3df-c3065ffba532"
      },
      "outputs": [
        {
          "output_type": "stream",
          "name": "stdout",
          "text": [
            "Mounted at /content/drive\n"
          ]
        }
      ],
      "source": [
        "from google.colab import drive\n",
        "drive.mount('/content/drive')"
      ]
    },
    {
      "cell_type": "code",
      "execution_count": 4,
      "metadata": {
        "id": "HKxrKtV5H77z"
      },
      "outputs": [],
      "source": [
        "import zipfile\n",
        "\n",
        "# Unzip the file\n",
        "zip_ref = zipfile.ZipFile(\"/content/drive/MyDrive/Colab Notebooks/Image_Classification_with_CNN_Malaria/cell_images.zip\", \"r\")\n",
        "zip_ref.extractall()\n",
        "zip_ref.close()"
      ]
    },
    {
      "cell_type": "markdown",
      "metadata": {
        "id": "YTyh7iXXsl9E"
      },
      "source": [
        "# Recognizing and Understanding Data"
      ]
    },
    {
      "cell_type": "code",
      "execution_count": 5,
      "metadata": {
        "id": "BxDyRgOYdiDB"
      },
      "outputs": [],
      "source": [
        "my_data_dir = \"cell_images\""
      ]
    },
    {
      "cell_type": "code",
      "source": [
        "my_data_dir"
      ],
      "metadata": {
        "colab": {
          "base_uri": "https://localhost:8080/",
          "height": 35
        },
        "id": "EFFrlKJ9UBCa",
        "outputId": "ad61c99c-fa48-4ac9-816b-50a875b34da2"
      },
      "execution_count": 15,
      "outputs": [
        {
          "output_type": "execute_result",
          "data": {
            "text/plain": [
              "'cell_images'"
            ],
            "application/vnd.google.colaboratory.intrinsic+json": {
              "type": "string"
            }
          },
          "metadata": {},
          "execution_count": 15
        }
      ]
    },
    {
      "cell_type": "code",
      "execution_count": 6,
      "metadata": {
        "id": "AQVM6TYWsl9G",
        "colab": {
          "base_uri": "https://localhost:8080/"
        },
        "outputId": "295bedec-3689-4520-a77b-049066196e45"
      },
      "outputs": [
        {
          "output_type": "execute_result",
          "data": {
            "text/plain": [
              "['test', 'train']"
            ]
          },
          "metadata": {},
          "execution_count": 6
        }
      ],
      "source": [
        "# CONFIRM THAT THIS REPORTS BACK 'test', and 'train'\n",
        "os.listdir(my_data_dir) "
      ]
    },
    {
      "cell_type": "code",
      "execution_count": 7,
      "metadata": {
        "id": "Chik3r8Ysl9H"
      },
      "outputs": [],
      "source": [
        "test_path = my_data_dir + '/test/'\n",
        "train_path = my_data_dir + '/train/'"
      ]
    },
    {
      "cell_type": "code",
      "source": [
        "test_path"
      ],
      "metadata": {
        "colab": {
          "base_uri": "https://localhost:8080/",
          "height": 35
        },
        "id": "xJ8RzmvkTwDs",
        "outputId": "95763c11-c21c-46ec-faf6-80d995836524"
      },
      "execution_count": 13,
      "outputs": [
        {
          "output_type": "execute_result",
          "data": {
            "text/plain": [
              "'cell_images/test/'"
            ],
            "application/vnd.google.colaboratory.intrinsic+json": {
              "type": "string"
            }
          },
          "metadata": {},
          "execution_count": 13
        }
      ]
    },
    {
      "cell_type": "code",
      "source": [
        "train_path"
      ],
      "metadata": {
        "colab": {
          "base_uri": "https://localhost:8080/",
          "height": 35
        },
        "id": "FR60dGWgTztC",
        "outputId": "91668a81-7e3c-45c8-a7dd-02d8f52e09b2"
      },
      "execution_count": 14,
      "outputs": [
        {
          "output_type": "execute_result",
          "data": {
            "text/plain": [
              "'cell_images/train/'"
            ],
            "application/vnd.google.colaboratory.intrinsic+json": {
              "type": "string"
            }
          },
          "metadata": {},
          "execution_count": 14
        }
      ]
    },
    {
      "cell_type": "code",
      "execution_count": 8,
      "metadata": {
        "id": "hO_ct-D3sl9H",
        "colab": {
          "base_uri": "https://localhost:8080/"
        },
        "outputId": "72539db5-eed4-4289-c77a-7d1f489ebc65"
      },
      "outputs": [
        {
          "output_type": "execute_result",
          "data": {
            "text/plain": [
              "['parasitized', 'uninfected']"
            ]
          },
          "metadata": {},
          "execution_count": 8
        }
      ],
      "source": [
        "os.listdir(test_path)"
      ]
    },
    {
      "cell_type": "code",
      "execution_count": 9,
      "metadata": {
        "id": "QN6kB1Ezsl9I",
        "colab": {
          "base_uri": "https://localhost:8080/"
        },
        "outputId": "2b3e9e25-6807-4d37-e839-337d6e5b3313"
      },
      "outputs": [
        {
          "output_type": "execute_result",
          "data": {
            "text/plain": [
              "['parasitized', 'uninfected']"
            ]
          },
          "metadata": {},
          "execution_count": 9
        }
      ],
      "source": [
        "os.listdir(train_path)"
      ]
    },
    {
      "cell_type": "code",
      "execution_count": 10,
      "metadata": {
        "id": "eC4GUi8Jp8Rq",
        "colab": {
          "base_uri": "https://localhost:8080/"
        },
        "outputId": "88983881-ee19-49e9-e2b8-68579cce050e"
      },
      "outputs": [
        {
          "output_type": "execute_result",
          "data": {
            "text/plain": [
              "['parasitized', 'uninfected']"
            ]
          },
          "metadata": {},
          "execution_count": 10
        }
      ],
      "source": [
        "classes = os.listdir(train_path)\n",
        "classes"
      ]
    },
    {
      "cell_type": "code",
      "execution_count": 11,
      "metadata": {
        "id": "AYrKX5pqe8Ky",
        "colab": {
          "base_uri": "https://localhost:8080/"
        },
        "outputId": "bd3c78dd-7ab8-45a6-fd26-7b7957ead2b4"
      },
      "outputs": [
        {
          "output_type": "stream",
          "name": "stdout",
          "text": [
            "['parasitized' 'uninfected']\n"
          ]
        }
      ],
      "source": [
        "import pathlib\n",
        "\n",
        "data_dir = pathlib.Path(train_path) # turn our training path into a Python path\n",
        "class_names = np.array(sorted([item.name for item in data_dir.glob('*')])) # created a list of class_names from the subdirectories\n",
        "print(class_names)"
      ]
    },
    {
      "cell_type": "code",
      "execution_count": 12,
      "metadata": {
        "id": "17L-4uqGptMS",
        "colab": {
          "base_uri": "https://localhost:8080/"
        },
        "outputId": "02d35a8e-2ae0-42b2-95d1-85b75816d3a3"
      },
      "outputs": [
        {
          "output_type": "execute_result",
          "data": {
            "text/plain": [
              "array(['parasitized', 'uninfected'], dtype='<U11')"
            ]
          },
          "metadata": {},
          "execution_count": 12
        }
      ],
      "source": [
        "class_names"
      ]
    },
    {
      "cell_type": "markdown",
      "metadata": {
        "id": "mFVLtsmLsl9N"
      },
      "source": [
        "**Let's check how many images there are.**"
      ]
    },
    {
      "cell_type": "code",
      "execution_count": 16,
      "metadata": {
        "id": "uYCWoVG1qPNo",
        "colab": {
          "base_uri": "https://localhost:8080/"
        },
        "outputId": "0e2163d6-9bfd-47e2-e4f4-eb0d4cdf62de"
      },
      "outputs": [
        {
          "output_type": "execute_result",
          "data": {
            "text/plain": [
              "['C116P77ThinF_IMG_20150930_171844_cell_103.png',\n",
              " 'C68P29N_ThinF_IMG_20150819_133447_cell_144.png',\n",
              " 'C176P137NThinF_IMG_20151201_122444_cell_114.png',\n",
              " 'C91P52ThinF_IMG_20150821_123314_cell_192.png',\n",
              " 'C109P70ThinF_IMG_20150930_103645_cell_174.png',\n",
              " 'C180P141NThinF_IMG_20151201_165659_cell_24.png',\n",
              " 'C180P141NThinF_IMG_20151201_165453_cell_8.png',\n",
              " 'C89P50ThinF_IMG_20150820_162813_cell_209.png',\n",
              " 'C107P68ThinF_IMG_20150924_222535_cell_143.png',\n",
              " 'C116P77ThinF_IMG_20150930_172112_cell_96.png',\n",
              " 'C99P60ThinF_IMG_20150918_140900_cell_141.png',\n",
              " 'C70P31_ThinF_IMG_20150813_131924_cell_12.png',\n",
              " 'C101P62ThinF_IMG_20150923_165215_cell_32.png',\n",
              " 'C132P93ThinF_IMG_20151004_152642_cell_50.png',\n",
              " 'C119P80ThinF_IMG_20151002_123911_cell_134.png',\n",
              " 'C94P55ThinF_IMG_20150821_170021_cell_216.png',\n",
              " 'C59P20thinF_IMG_20150803_115303_cell_23.png',\n",
              " 'C80P41ThinF_IMG_20150817_111544_cell_131.png',\n",
              " 'C68P29N_ThinF_IMG_20150819_134712_cell_15.png',\n",
              " 'C126P87ThinF_IMG_20151004_105342_cell_114.png',\n",
              " 'C132P93ThinF_IMG_20151004_152642_cell_5.png',\n",
              " 'C182P143NThinF_IMG_20151201_171950_cell_207.png',\n",
              " 'C70P31_ThinF_IMG_20150813_131022_cell_97.png',\n",
              " 'C189P150ThinF_IMG_20151203_140902_cell_111.png',\n",
              " 'C70P31_ThinF_IMG_20150819_142744_cell_93.png',\n",
              " 'C80P41ThinF_IMG_20150817_111943_cell_2.png',\n",
              " 'C70P31_ThinF_IMG_20150813_131708_cell_8.png',\n",
              " 'C189P150ThinF_IMG_20151203_142113_cell_86.png',\n",
              " 'C137P98ThinF_IMG_20151005_162648_cell_1.png',\n",
              " 'C175P136NThinF_IMG_20151127_141428_cell_221.png',\n",
              " 'C180P141NThinF_IMG_20151201_165601_cell_196.png',\n",
              " 'C68P29N_ThinF_IMG_20150819_134712_cell_66.png',\n",
              " 'C52P13thinF_IMG_20150725_125847_cell_167.png',\n",
              " 'C33P1thinF_IMG_20150619_115740a_cell_162.png',\n",
              " 'C39P4thinF_original_IMG_20150622_110900_cell_7.png',\n",
              " 'C187P148NThinF_IMG_20151203_154111_cell_128.png',\n",
              " 'C142P103ThinF_IMG_20151005_222440_cell_179.png',\n",
              " 'C183P144NThinF_IMG_20151201_223431_cell_103.png',\n",
              " 'C59P20thinF_IMG_20150803_113809_cell_50.png',\n",
              " 'C59P20thinF_IMG_20150803_112733_cell_198.png',\n",
              " 'C188P149ThinF_IMG_20151203_135433_cell_183.png',\n",
              " 'C180P141NThinF_IMG_20151201_163848_cell_157.png',\n",
              " 'C189P150ThinF_IMG_20151203_141406_cell_102.png',\n",
              " 'C157P118ThinF_IMG_20151115_162818_cell_186.png',\n",
              " 'C77P38ThinF_IMG_20150602_112011_cell_123.png',\n",
              " 'C59P20thinF_IMG_20150803_113139_cell_18.png',\n",
              " 'C167P128ReThinF_IMG_20151201_105102_cell_247.png',\n",
              " 'C97P58ThinF_IMG_20150917_151437_cell_161.png',\n",
              " 'C118P79ThinF_IMG_20151002_105735_cell_157.png',\n",
              " 'C39P4thinF_original_IMG_20150622_105335_cell_26.png',\n",
              " 'C120P81ThinF_IMG_20151002_130715_cell_189.png',\n",
              " 'C99P60ThinF_IMG_20150918_141857_cell_37.png',\n",
              " 'C179P140ThinF_IMG_20151127_153819_cell_180.png',\n",
              " 'C133P94ThinF_IMG_20151004_154351_cell_106.png',\n",
              " 'C93P54ThinF_IMG_20150821_164024_cell_205.png',\n",
              " 'C133P94ThinF_IMG_20151004_153930_cell_113.png',\n",
              " 'C129P90ThinF_IMG_20151004_134636_cell_24.png',\n",
              " 'C84P45ThinF_IMG_20150818_104156_cell_124.png',\n",
              " 'C182P143NThinF_IMG_20151201_171905_cell_179.png',\n",
              " 'C175P136NThinF_IMG_20151127_141325_cell_229.png',\n",
              " 'C136P97ThinF_IMG_20151005_144449_cell_24.png',\n",
              " 'C132P93ThinF_IMG_20151004_152642_cell_47.png',\n",
              " 'C59P20thinF_IMG_20150803_112733_cell_180.png',\n",
              " 'C176P137NThinF_IMG_20151201_121303_cell_110.png',\n",
              " 'C68P29N_ThinF_IMG_20150819_134326_cell_140.png',\n",
              " 'C184P145ThinF_IMG_20151203_103114_cell_155.png',\n",
              " 'C176P137NThinF_IMG_20151201_114235_cell_5.png',\n",
              " 'C184P145ThinF_IMG_20151203_104153_cell_153.png',\n",
              " 'C167P128ReThinF_IMG_20151201_105354_cell_245.png',\n",
              " 'C68P29N_ThinF_IMG_20150819_134830_cell_45.png',\n",
              " 'C91P52ThinF_IMG_20150821_125423_cell_9.png',\n",
              " 'C117P78ThinF_IMG_20150930_221048_cell_98.png',\n",
              " 'C184P145ThinF_IMG_20151203_102543_cell_169.png',\n",
              " 'C39P4thinF_original_IMG_20150622_111942_cell_15.png',\n",
              " 'C104P65ThinF_IMG_20150918_172537_cell_149.png',\n",
              " 'C118P79ThinF_IMG_20151002_110002_cell_13.png',\n",
              " 'C68P29N_ThinF_IMG_20150819_134326_cell_120.png',\n",
              " 'C181P142ThinF_IMG_20151127_155914_cell_180.png',\n",
              " 'C91P52ThinF_IMG_20150821_124739_cell_179.png',\n",
              " 'C39P4thinF_original_IMG_20150622_111326_cell_22.png',\n",
              " 'C182P143NThinF_IMG_20151201_172216_cell_163.png',\n",
              " 'C153P114ThinF_IMG_20151115_135746_cell_268.png',\n",
              " 'C101P62ThinF_IMG_20150918_155731_cell_68.png',\n",
              " 'C46P7ThinF_IMG_20151130_210938_cell_169.png',\n",
              " 'C51AP12thinF_IMG_20150724_154330_cell_127.png',\n",
              " 'C116P77ThinF_IMG_20150930_171558_cell_150.png',\n",
              " 'C158P119ThinF_IMG_20151115_181558_cell_195.png',\n",
              " 'C81P42ThinF_IMG_20150817_120524_cell_187.png',\n",
              " 'C181P142ThinF_IMG_20151127_160539_cell_198.png',\n",
              " 'C101P62ThinF_IMG_20150918_151006_cell_82.png',\n",
              " 'C179P140ThinF_IMG_20151127_153350_cell_184.png',\n",
              " 'C99P60ThinF_IMG_20150918_142128_cell_108.png',\n",
              " 'C182P143NThinF_IMG_20151201_172607_cell_52.png',\n",
              " 'C99P60ThinF_IMG_20150918_141314_cell_125.png',\n",
              " 'C91P52ThinF_IMG_20150821_123116_cell_175.png',\n",
              " 'C133P94ThinF_IMG_20151004_154351_cell_120.png',\n",
              " 'C182P143NThinF_IMG_20151201_172759_cell_29.png',\n",
              " 'C82P43ThinF_IMG_20150817_123652_cell_207.png',\n",
              " 'C102P63ThinF_IMG_20150918_162927_cell_3.png',\n",
              " 'C136P97ThinF_IMG_20151005_141321_cell_95.png',\n",
              " 'C70P31_ThinF_IMG_20150819_142703_cell_18.png',\n",
              " 'C129P90ThinF_IMG_20151004_133329_cell_96.png',\n",
              " 'C137P98ThinF_IMG_20151005_161449_cell_3.png',\n",
              " 'C103P64ThinF_IMG_20150918_165510_cell_178.png',\n",
              " 'C167P128ReThinF_IMG_20151201_105707_cell_227.png',\n",
              " 'C91P52ThinF_IMG_20150821_125423_cell_7.png',\n",
              " 'C84P45ThinF_IMG_20150818_101550_cell_95.png',\n",
              " 'C46P7ThinF_IMG_20151130_205828_cell_144.png',\n",
              " 'C99P60ThinF_IMG_20150918_141520_cell_129.png',\n",
              " 'C137P98ThinF_IMG_20151005_161449_cell_8.png',\n",
              " 'C76P37ThinF_IMG_20150815_172902_cell_222.png',\n",
              " 'C144P105ThinF_IMG_20151015_160908_cell_292.png',\n",
              " 'C82P43ThinF_IMG_20150817_123500_cell_227.png',\n",
              " 'C39P4thinF_original_IMG_20150622_105102_cell_101.png',\n",
              " 'C99P60ThinF_IMG_20150918_141001_cell_151.png',\n",
              " 'C126P87ThinF_IMG_20151004_105844_cell_147.png',\n",
              " 'C129P90ThinF_IMG_20151004_133703_cell_90.png',\n",
              " 'C182P143NThinF_IMG_20151201_172216_cell_198.png',\n",
              " 'C48P9thinF_IMG_20150721_161243_cell_152.png',\n",
              " 'C186P147NThinF_IMG_20151203_150408_cell_181.png',\n",
              " 'C66P27N_ThinF_IMG_20150818_164702_cell_153.png',\n",
              " 'C184P145ThinF_IMG_20151203_103637_cell_163.png',\n",
              " 'C183P144NThinF_IMG_20151201_222119_cell_129.png',\n",
              " 'C175P136NThinF_IMG_20151127_141325_cell_226.png',\n",
              " 'C189P150ThinF_IMG_20151203_141110_cell_75.png',\n",
              " 'C59P20thinF_IMG_20150803_113430_cell_4.png',\n",
              " 'C74P35_ThinF_IMG_20150815_114401_cell_157.png',\n",
              " 'C70P31_ThinF_IMG_20150813_131022_cell_96.png',\n",
              " 'C68P29N_ThinF_IMG_20150819_133350_cell_156.png',\n",
              " 'C123P84ThinF_IMG_20151002_150931_cell_201.png',\n",
              " 'C133P94ThinF_IMG_20151004_155012_cell_10.png',\n",
              " 'C59P20thinF_IMG_20150803_113139_cell_54.png',\n",
              " 'C189P150ThinF_IMG_20151203_141809_cell_96.png',\n",
              " 'C109P70ThinF_IMG_20150930_103214_cell_183.png',\n",
              " 'C131P92ThinF_IMG_20151004_151126_cell_123.png',\n",
              " 'C106P67ThinF_IMG_20150924_102245_cell_166.png',\n",
              " 'C59P20thinF_IMG_20150803_113809_cell_46.png',\n",
              " 'C128P89ThinF_IMG_20151004_131231_cell_138.png',\n",
              " 'C68P29N_ThinF_IMG_20150819_133236_cell_133.png',\n",
              " 'C133P94ThinF_IMG_20151004_155518_cell_110.png',\n",
              " 'C105P66ThinF_IMG_20150924_095633_cell_126.png',\n",
              " 'C189P150ThinF_IMG_20151203_141615_cell_93.png',\n",
              " 'C129P90ThinF_IMG_20151004_133421_cell_113.png',\n",
              " 'C99P60ThinF_IMG_20150918_140900_cell_110.png',\n",
              " 'C130P91ThinF_IMG_20151004_142109_cell_139.png',\n",
              " 'C118P79ThinF_IMG_20151002_105346_cell_166.png',\n",
              " 'C116P77ThinF_IMG_20150930_171448_cell_106.png',\n",
              " 'C39P4thinF_original_IMG_20150622_113632_cell_5.png',\n",
              " 'C184P145ThinF_IMG_20151203_102543_cell_154.png',\n",
              " 'C101P62ThinF_IMG_20150918_151239_cell_85.png',\n",
              " 'C70P31_ThinF_IMG_20150819_142703_cell_5.png',\n",
              " 'C133P94ThinF_IMG_20151004_155331_cell_124.png',\n",
              " 'C181P142ThinF_IMG_20151127_155722_cell_200.png',\n",
              " 'C82P43ThinF_IMG_20150817_124010_cell_189.png',\n",
              " 'C82P43ThinF_IMG_20150817_123500_cell_229.png',\n",
              " 'C133P94ThinF_IMG_20151004_155721_cell_108.png',\n",
              " 'C124P85ThinF_IMG_20151002_155223_cell_166.png',\n",
              " 'C80P41ThinF_IMG_20150817_111121_cell_158.png',\n",
              " 'C184P145ThinF_IMG_20151203_102721_cell_12.png',\n",
              " 'C80P41ThinF_IMG_20150817_110834_cell_136.png',\n",
              " 'C132P93ThinF_IMG_20151004_151701_cell_161.png',\n",
              " 'C166P127ThinF_IMG_20151117_195030_cell_219.png',\n",
              " 'C118P79ThinF_IMG_20151002_105735_cell_146.png',\n",
              " 'C76P37ThinF_IMG_20150815_171214_cell_202.png',\n",
              " 'C186P147NThinF_IMG_20151203_150557_cell_188.png',\n",
              " 'C48P9thinF_IMG_20150721_164031_cell_25.png',\n",
              " 'C68P29N_ThinF_IMG_20150819_133350_cell_191.png',\n",
              " 'C124P85ThinF_IMG_20151002_155223_cell_167.png',\n",
              " 'C66P27N_ThinF_IMG_20150818_163419_cell_198.png',\n",
              " 'C182P143NThinF_IMG_20151201_172842_cell_21.png',\n",
              " 'C52P13thinF_IMG_20150725_123938_cell_191.png',\n",
              " 'C182P143NThinF_IMG_20151201_172842_cell_11.png',\n",
              " 'C117P78ThinF_IMG_20150930_214138_cell_98.png',\n",
              " 'C177P138NThinF_IMG_20151201_142846_cell_157.png',\n",
              " 'C129P90ThinF_IMG_20151004_134636_cell_21.png',\n",
              " 'C84P45ThinF_IMG_20150818_102325_cell_101.png',\n",
              " 'C48P9thinF_IMG_20150721_160944_cell_214.png',\n",
              " 'C39P4thinF_original_IMG_20150622_114804_cell_21.png',\n",
              " 'C46P7ThinF_IMG_20151130_205828_cell_142.png',\n",
              " 'C116P77ThinF_IMG_20150930_172112_cell_95.png',\n",
              " 'C68P29N_ThinF_IMG_20150819_133447_cell_149.png',\n",
              " 'C128P89ThinF_IMG_20151004_131753_cell_133.png',\n",
              " 'C176P137NThinF_IMG_20151201_120845_cell_131.png',\n",
              " 'C184P145ThinF_IMG_20151203_104030_cell_32.png',\n",
              " 'C39P4thinF_original_IMG_20150622_110352_cell_106.png',\n",
              " 'C84P45ThinF_IMG_20150818_101257_cell_99.png',\n",
              " 'C59P20thinF_IMG_20150803_113139_cell_16.png',\n",
              " 'C181P142ThinF_IMG_20151127_155914_cell_183.png',\n",
              " 'C59P20thinF_IMG_20150803_112802_cell_171.png',\n",
              " 'C82P43ThinF_IMG_20150817_124010_cell_196.png',\n",
              " 'C97P58ThinF_IMG_20150917_152225_cell_23.png',\n",
              " 'C157P118ThinF_IMG_20151115_163915_cell_175.png',\n",
              " 'C48P9thinF_IMG_20150721_163810_cell_13.png',\n",
              " 'C174P135NThinF_IMG_20151127_135640_cell_195.png',\n",
              " 'C172P133ThinF_IMG_20151119_154936_cell_257.png',\n",
              " 'C184P145ThinF_IMG_20151203_103637_cell_177.png',\n",
              " 'C184P145ThinF_IMG_20151203_102721_cell_20.png',\n",
              " 'C59P20thinF_IMG_20150803_113051_cell_150.png',\n",
              " 'C137P98ThinF_IMG_20151005_161859_cell_78.png',\n",
              " 'C182P143NThinF_IMG_20151201_171950_cell_168.png',\n",
              " 'C118P79ThinF_IMG_20151002_105125_cell_143.png',\n",
              " 'C131P92ThinF_IMG_20151004_151001_cell_120.png',\n",
              " 'C149P110ThinF_IMG_20151115_114555_cell_302.png',\n",
              " 'C119P80ThinF_IMG_20151002_123608_cell_143.png',\n",
              " 'C173P134NThinF_IMG_20151130_120046_cell_241.png',\n",
              " 'C167P128ReThinF_IMG_20151201_105707_cell_243.png',\n",
              " 'C188P149ThinF_IMG_20151203_134449_cell_204.png',\n",
              " 'C184P145ThinF_IMG_20151203_103824_cell_148.png',\n",
              " 'C100P61ThinF_IMG_20150918_144823_cell_161.png',\n",
              " 'C167P128ReThinF_IMG_20151201_105707_cell_237.png',\n",
              " 'C56P17thinF_IMG_20150728_155921_cell_112.png',\n",
              " 'C145P106ThinF_IMG_20151016_154844_cell_156.png',\n",
              " 'C39P4thinF_original_IMG_20150622_114804_cell_35.png',\n",
              " 'C120P81ThinF_IMG_20151002_130715_cell_191.png',\n",
              " 'C137P98ThinF_IMG_20151005_163251_cell_70.png',\n",
              " 'C156P117ThinF_IMG_20151115_154313_cell_275.png',\n",
              " 'C97P58ThinF_IMG_20150917_152032_cell_168.png',\n",
              " 'C71P32_ThinF_IMG_20150813_163655_cell_199.png',\n",
              " 'C42P5thin_original_IMG_20150623_134547_cell_240.png',\n",
              " 'C184P145ThinF_IMG_20151203_102543_cell_180.png',\n",
              " 'C181P142ThinF_IMG_20151127_160434_cell_163.png',\n",
              " 'C181P142ThinF_IMG_20151127_155914_cell_155.png',\n",
              " 'C132P93ThinF_IMG_20151004_152045_cell_161.png',\n",
              " 'C182P143NThinF_IMG_20151201_172257_cell_146.png',\n",
              " 'C59P20thinF_IMG_20150803_112802_cell_189.png',\n",
              " 'C59P20thinF_IMG_20150803_113051_cell_151.png',\n",
              " 'C182P143NThinF_IMG_20151201_172524_cell_182.png',\n",
              " 'C84P45ThinF_IMG_20150818_102800_cell_17.png',\n",
              " 'C120P81ThinF_IMG_20151002_125443_cell_139.png',\n",
              " 'C116P77ThinF_IMG_20150930_171635_cell_92.png',\n",
              " 'C169P130ThinF_IMG_20151118_172913_cell_230.png',\n",
              " 'C180P141NThinF_IMG_20151201_170021_cell_20.png',\n",
              " 'C59P20thinF_IMG_20150803_113051_cell_193.png',\n",
              " 'C100P61ThinF_IMG_20150918_150041_cell_147.png',\n",
              " 'C182P143NThinF_IMG_20151201_172759_cell_1.png',\n",
              " 'C39P4thinF_original_IMG_20150622_110435_cell_85.png',\n",
              " 'C146P107ThinF_IMG_20151018_140342_cell_249.png',\n",
              " 'C59P20thinF_IMG_20150803_112858_cell_175.png',\n",
              " 'C171P132ThinF_IMG_20151119_152913_cell_248.png',\n",
              " 'C132P93ThinF_IMG_20151004_153030_cell_8.png',\n",
              " 'C133P94ThinF_IMG_20151004_155144_cell_114.png',\n",
              " 'C176P137NThinF_IMG_20151201_120612_cell_21.png',\n",
              " 'C94P55ThinF_IMG_20150821_170021_cell_217.png',\n",
              " 'C140P101ThinF_IMG_20151005_210309_cell_188.png',\n",
              " 'C80P41ThinF_IMG_20150817_112329_cell_17.png',\n",
              " 'C59P20thinF_IMG_20150803_113809_cell_47.png',\n",
              " 'C91P52ThinF_IMG_20150821_124739_cell_188.png',\n",
              " 'C68P29N_ThinF_IMG_20150819_134326_cell_141.png',\n",
              " 'C124P85ThinF_IMG_20151002_155026_cell_172.png',\n",
              " 'C176P137NThinF_IMG_20151201_120612_cell_23.png',\n",
              " 'C118P79ThinF_IMG_20151002_105735_cell_143.png',\n",
              " 'C82P43ThinF_IMG_20150817_125326_cell_27.png',\n",
              " 'C118P79ThinF_IMG_20151002_105018_cell_153.png',\n",
              " 'C112P73ThinF_IMG_20150930_131254_cell_184.png',\n",
              " 'C59P20thinF_IMG_20150803_113051_cell_188.png',\n",
              " 'C100P61ThinF_IMG_20150918_144104_cell_169.png',\n",
              " 'C60P21thinF_IMG_20150804_113011_cell_8.png',\n",
              " 'C182P143NThinF_IMG_20151201_172842_cell_15.png',\n",
              " 'C91P52ThinF_IMG_20150821_124739_cell_180.png',\n",
              " 'C93P54ThinF_IMG_20150821_164024_cell_206.png',\n",
              " 'C189P150ThinF_IMG_20151203_142113_cell_90.png',\n",
              " 'C99P60ThinF_IMG_20150918_142334_cell_31.png',\n",
              " 'C99P60ThinF_IMG_20150918_141351_cell_140.png',\n",
              " 'C128P89ThinF_IMG_20151004_130810_cell_153.png',\n",
              " 'C180P141NThinF_IMG_20151201_163848_cell_150.png',\n",
              " 'C91P52ThinF_IMG_20150821_123314_cell_187.png',\n",
              " 'C136P97ThinF_IMG_20151005_143743_cell_129.png',\n",
              " 'C97P58ThinF_IMG_20150917_152437_cell_16.png',\n",
              " 'C133P94ThinF_IMG_20151004_154158_cell_107.png',\n",
              " 'C140P101ThinF_IMG_20151005_210309_cell_186.png',\n",
              " 'C137P98ThinF_IMG_20151005_164119_cell_74.png',\n",
              " 'C137P98ThinF_IMG_20151005_160256_cell_59.png',\n",
              " 'C164P125ThinF_IMG_20151116_115650_cell_164.png',\n",
              " 'C143P104ThinF_IMG_20151005_225746_cell_173.png',\n",
              " 'C137P98ThinF_IMG_20151005_163218_cell_85.png',\n",
              " 'C129P90ThinF_IMG_20151004_133421_cell_105.png',\n",
              " 'C68P29N_ThinF_IMG_20150819_134625_cell_5.png',\n",
              " 'C116P77ThinF_IMG_20150930_171739_cell_82.png',\n",
              " 'C118P79ThinF_IMG_20151002_105018_cell_134.png',\n",
              " 'C176P137NThinF_IMG_20151201_121030_cell_14.png',\n",
              " 'C180P141NThinF_IMG_20151201_165601_cell_170.png',\n",
              " 'C129P90ThinF_IMG_20151004_134700_cell_2.png',\n",
              " 'C137P98ThinF_IMG_20151005_163218_cell_88.png',\n",
              " 'C189P150ThinF_IMG_20151203_142224_cell_94.png',\n",
              " 'C39P4thinF_original_IMG_20150622_111206_cell_90.png',\n",
              " 'C97P58ThinF_IMG_20150917_152225_cell_11.png',\n",
              " 'C179P140ThinF_IMG_20151127_153420_cell_173.png',\n",
              " 'C130P91ThinF_IMG_20151004_141428_cell_137.png',\n",
              " 'C181P142ThinF_IMG_20151127_155722_cell_196.png',\n",
              " 'C70P31_ThinF_IMG_20150813_130849_cell_75.png',\n",
              " 'C68P29N_ThinF_IMG_20150819_134112_cell_123.png',\n",
              " 'C136P97ThinF_IMG_20151005_140646_cell_123.png',\n",
              " 'C116P77ThinF_IMG_20150930_171635_cell_112.png',\n",
              " 'C39P4thinF_original_IMG_20150622_110435_cell_112.png',\n",
              " 'C184P145ThinF_IMG_20151203_104440_cell_11.png',\n",
              " 'C174P135NThinF_IMG_20151127_135640_cell_181.png',\n",
              " 'C97P58ThinF_IMG_20150917_152437_cell_2.png',\n",
              " 'C132P93ThinF_IMG_20151004_152353_cell_162.png',\n",
              " 'C119P80ThinF_IMG_20151002_124345_cell_166.png',\n",
              " 'C101P62ThinF_IMG_20150923_170246_cell_87.png',\n",
              " 'C132P93ThinF_IMG_20151004_151733_cell_182.png',\n",
              " 'C186P147NThinF_IMG_20151203_150132_cell_198.png',\n",
              " 'C180P141NThinF_IMG_20151201_165423_cell_159.png',\n",
              " 'C116P77ThinF_IMG_20150930_171219_cell_83.png',\n",
              " 'C158P119ThinF_IMG_20151115_181436_cell_201.png',\n",
              " 'C132P93ThinF_IMG_20151004_152808_cell_13.png',\n",
              " 'C91P52ThinF_IMG_20150821_124739_cell_196.png',\n",
              " 'C101P62ThinF_IMG_20150918_151335_cell_70.png',\n",
              " 'C33P1thinF_IMG_20150619_114756a_cell_180.png',\n",
              " 'C81P42ThinF_IMG_20150817_115942_cell_218.png',\n",
              " 'C48P9thinF_IMG_20150721_160406_cell_234.png',\n",
              " 'C137P98ThinF_IMG_20151005_161306_cell_11.png',\n",
              " 'C118P79ThinF_IMG_20151002_110725_cell_150.png',\n",
              " 'C189P150ThinF_IMG_20151203_141809_cell_95.png',\n",
              " 'C181P142ThinF_IMG_20151127_160650_cell_190.png',\n",
              " 'C139P100ThinF_IMG_20151005_182822_cell_164.png',\n",
              " 'C132P93ThinF_IMG_20151004_152257_cell_139.png',\n",
              " 'C91P52ThinF_IMG_20150821_124937_cell_221.png',\n",
              " 'C68P29N_ThinF_IMG_20150819_133236_cell_181.png',\n",
              " 'C181P142ThinF_IMG_20151127_155722_cell_179.png',\n",
              " 'C140P101ThinF_IMG_20151005_211735_cell_159.png',\n",
              " 'C39P4thinF_original_IMG_20150622_111206_cell_89.png',\n",
              " 'C80P41ThinF_IMG_20150817_110608_cell_153.png',\n",
              " 'C180P141NThinF_IMG_20151201_165601_cell_209.png',\n",
              " 'C99P60ThinF_IMG_20150918_141129_cell_140.png',\n",
              " 'C133P94ThinF_IMG_20151004_154512_cell_140.png',\n",
              " 'C189P150ThinF_IMG_20151203_141308_cell_69.png',\n",
              " 'C99P60ThinF_IMG_20150918_141001_cell_140.png',\n",
              " 'C82P43ThinF_IMG_20150817_125326_cell_23.png',\n",
              " 'C107P68ThinF_IMG_20150924_221909_cell_163.png',\n",
              " 'C59P20thinF_IMG_20150803_113051_cell_187.png',\n",
              " 'C180P141NThinF_IMG_20151201_165601_cell_162.png',\n",
              " 'C77P38ThinF_IMG_20150602_112011_cell_128.png',\n",
              " 'C33P1thinF_IMG_20150619_121102a_cell_193.png',\n",
              " 'C65P26N_ThinF_IMG_20150818_154326_cell_183.png',\n",
              " 'C159P120ThinF_IMG_20151115_185541_cell_179.png',\n",
              " 'C186P147NThinF_IMG_20151203_150132_cell_199.png',\n",
              " 'C116P77ThinF_IMG_20150930_171954_cell_82.png',\n",
              " 'C159P120ThinF_IMG_20151115_185541_cell_189.png',\n",
              " 'C92P53ThinF_IMG_20150821_151224_cell_210.png',\n",
              " 'C151P112ThinF_IMG_20151115_121644_cell_257.png',\n",
              " 'C68P29N_ThinF_IMG_20150819_134712_cell_27.png',\n",
              " 'C89P50ThinF_IMG_20150820_162813_cell_212.png',\n",
              " 'C136P97ThinF_IMG_20151005_140646_cell_112.png',\n",
              " 'C137P98ThinF_IMG_20151005_161859_cell_80.png',\n",
              " 'C84P45ThinF_IMG_20150818_104849_cell_17.png',\n",
              " 'C167P128ReThinF_IMG_20151201_105559_cell_234.png',\n",
              " 'C182P143NThinF_IMG_20151201_172216_cell_130.png',\n",
              " 'C80P41ThinF_IMG_20150817_110348_cell_115.png',\n",
              " 'C120P81ThinF_IMG_20151002_130407_cell_192.png',\n",
              " 'C66P27N_ThinF_IMG_20150818_163419_cell_210.png',\n",
              " 'C59P20thinF_IMG_20150803_112802_cell_178.png',\n",
              " 'C157P118ThinF_IMG_20151115_164755_cell_192.png',\n",
              " 'C181P142ThinF_IMG_20151127_160539_cell_209.png',\n",
              " 'C59P20thinF_IMG_20150803_115303_cell_5.png',\n",
              " 'C181P142ThinF_IMG_20151127_160650_cell_176.png',\n",
              " 'C68P29N_ThinF_IMG_20150819_134112_cell_159.png',\n",
              " 'C119P80ThinF_IMG_20151002_124345_cell_142.png',\n",
              " 'C48P9thinF_IMG_20150721_162732_cell_17.png',\n",
              " 'C130P91ThinF_IMG_20151004_141428_cell_125.png',\n",
              " 'C67P28N_ThinF_IMG_20150819_121053_cell_235.png',\n",
              " 'C76P37ThinF_IMG_20150815_171454_cell_254.png',\n",
              " 'C126P87ThinF_IMG_20151004_104408_cell_169.png',\n",
              " 'C68P29N_ThinF_IMG_20150819_134326_cell_119.png',\n",
              " 'C48P9thinF_IMG_20150721_161055_cell_185.png',\n",
              " 'C132P93ThinF_IMG_20151004_153030_cell_12.png',\n",
              " 'C176P137NThinF_IMG_20151201_114035_cell_141.png',\n",
              " 'C181P142ThinF_IMG_20151127_160514_cell_174.png',\n",
              " 'C176P137NThinF_IMG_20151201_121808_cell_136.png',\n",
              " 'C116P77ThinF_IMG_20150930_171954_cell_83.png',\n",
              " 'C51AP12thinF_IMG_20150724_155046_cell_96.png',\n",
              " 'C118P79ThinF_IMG_20151002_110725_cell_152.png',\n",
              " 'C176P137NThinF_IMG_20151201_120845_cell_122.png',\n",
              " 'C182P143NThinF_IMG_20151201_172257_cell_164.png',\n",
              " 'C181P142ThinF_IMG_20151127_160434_cell_166.png',\n",
              " 'C51AP12thinF_IMG_20150724_160140_cell_68.png',\n",
              " 'C132P93ThinF_IMG_20151004_151701_cell_151.png',\n",
              " 'C180P141NThinF_IMG_20151201_165528_cell_184.png',\n",
              " 'C82P43ThinF_IMG_20150817_123824_cell_211.png',\n",
              " 'C60P21thinF_IMG_20150803_144629_cell_7.png',\n",
              " 'C103P64ThinF_IMG_20150918_165510_cell_176.png',\n",
              " 'C99P60ThinF_IMG_20150918_142334_cell_4.png',\n",
              " 'C189P150ThinF_IMG_20151203_140809_cell_123.png',\n",
              " 'C51AP12thinF_IMG_20150724_155046_cell_93.png',\n",
              " 'C144P105ThinF_IMG_20151015_160908_cell_285.png',\n",
              " 'C48P9thinF_IMG_20150721_164129_cell_28.png',\n",
              " 'C45P6ThinF_IMG_20151130_160135_cell_207.png',\n",
              " 'C70P31_ThinF_IMG_20150813_130849_cell_73.png',\n",
              " 'C188P149ThinF_IMG_20151203_134319_cell_190.png',\n",
              " 'C68P29N_ThinF_IMG_20150819_134712_cell_28.png',\n",
              " 'C179P140ThinF_IMG_20151127_153420_cell_181.png',\n",
              " 'C39P4thinF_original_IMG_20150622_105102_cell_88.png',\n",
              " 'C39P4thinF_original_IMG_20150622_110352_cell_105.png',\n",
              " 'C132P93ThinF_IMG_20151004_152505_cell_160.png',\n",
              " 'C129P90ThinF_IMG_20151004_133703_cell_83.png',\n",
              " 'C99P60ThinF_IMG_20150918_141857_cell_8.png',\n",
              " 'C180P141NThinF_IMG_20151201_165601_cell_202.png',\n",
              " 'C184P145ThinF_IMG_20151203_103326_cell_160.png',\n",
              " 'C181P142ThinF_IMG_20151127_160650_cell_196.png',\n",
              " 'C60P21thinF_IMG_20150803_144003_cell_129.png',\n",
              " 'C137P98ThinF_IMG_20151005_161859_cell_79.png',\n",
              " 'C89P50ThinF_IMG_20150820_163728_cell_202.png',\n",
              " 'C45P6ThinF_IMG_20151130_154725_cell_185.png',\n",
              " 'C48P9thinF_IMG_20150721_163810_cell_17.png',\n",
              " 'C128P89ThinF_IMG_20151004_130549_cell_146.png',\n",
              " 'C59P20thinF_IMG_20150803_112733_cell_176.png',\n",
              " 'C146P107ThinF_IMG_20151018_140044_cell_217.png',\n",
              " 'C136P97ThinF_IMG_20151005_144449_cell_7.png',\n",
              " 'C176P137NThinF_IMG_20151201_121030_cell_17.png',\n",
              " 'C182P143NThinF_IMG_20151201_171950_cell_182.png',\n",
              " 'C182P143NThinF_IMG_20151201_172216_cell_140.png',\n",
              " 'C63P24N_ThinF_IMG_20150818_144456_cell_178.png',\n",
              " 'C189P150ThinF_IMG_20151203_141901_cell_86.png',\n",
              " 'C133P94ThinF_IMG_20151004_155012_cell_15.png',\n",
              " 'C76P37ThinF_IMG_20150815_172902_cell_215.png',\n",
              " 'C184P145ThinF_IMG_20151203_103824_cell_137.png',\n",
              " 'C182P143NThinF_IMG_20151201_172842_cell_1.png',\n",
              " 'C112P73ThinF_IMG_20150930_131900_cell_175.png',\n",
              " 'C48P9thinF_IMG_20150721_161055_cell_197.png',\n",
              " 'C137P98ThinF_IMG_20151005_161859_cell_72.png',\n",
              " 'C184P145ThinF_IMG_20151203_103637_cell_160.png',\n",
              " 'C189P150ThinF_IMG_20151203_141901_cell_75.png',\n",
              " 'C174P135NThinF_IMG_20151127_135435_cell_212.png',\n",
              " 'C122P83ThinF_IMG_20151002_145014_cell_171.png',\n",
              " 'C39P4thinF_original_IMG_20150622_110352_cell_81.png',\n",
              " 'C91P52ThinF_IMG_20150821_123314_cell_204.png',\n",
              " 'C107P68ThinF_IMG_20150924_221909_cell_156.png',\n",
              " 'C59P20thinF_IMG_20150803_112733_cell_174.png',\n",
              " 'C101P62ThinF_IMG_20150918_151507_cell_74.png',\n",
              " 'C142P103ThinF_IMG_20151005_223257_cell_187.png',\n",
              " 'C100P61ThinF_IMG_20150918_144104_cell_171.png',\n",
              " 'C189P150ThinF_IMG_20151203_141719_cell_54.png',\n",
              " 'C174P135NThinF_IMG_20151127_135435_cell_202.png',\n",
              " 'C168P129ThinF_IMG_20151118_161940_cell_157.png',\n",
              " 'C118P79ThinF_IMG_20151002_110834_cell_149.png',\n",
              " 'C46P7ThinF_IMG_20151130_205558_cell_148.png',\n",
              " 'C129P90ThinF_IMG_20151004_133244_cell_112.png',\n",
              " 'C50P11thinF_IMG_20150724_120716_cell_154.png',\n",
              " 'C60P21thinF_IMG_20150804_104919_cell_140.png',\n",
              " 'C184P145ThinF_IMG_20151203_103326_cell_157.png',\n",
              " 'C180P141NThinF_IMG_20151201_165453_cell_13.png',\n",
              " 'C84P45ThinF_IMG_20150818_101412_cell_112.png',\n",
              " 'C129P90ThinF_IMG_20151004_133329_cell_104.png',\n",
              " 'C46P7ThinF_IMG_20151130_205719_cell_131.png',\n",
              " 'C91P52ThinF_IMG_20150821_124311_cell_2.png',\n",
              " 'C48P9thinF_IMG_20150721_163810_cell_14.png',\n",
              " 'C49P10thinF_IMG_20150724_103233_cell_202.png',\n",
              " 'C133P94ThinF_IMG_20151004_154512_cell_123.png',\n",
              " 'C98P59ThinF_IMG_20150917_153600_cell_190.png',\n",
              " 'C182P143NThinF_IMG_20151201_172607_cell_29.png',\n",
              " 'C51AP12thinF_IMG_20150724_154243_cell_115.png',\n",
              " 'C77P38ThinF_IMG_20150602_143524_cell_150.png',\n",
              " 'C78P39ThinF_IMG_20150606_104426_cell_150.png',\n",
              " 'C126P87ThinF_IMG_20151004_105342_cell_115.png',\n",
              " 'C97P58ThinF_IMG_20150917_152225_cell_21.png',\n",
              " 'C137P98ThinF_IMG_20151005_161449_cell_13.png',\n",
              " 'C140P101ThinF_IMG_20151005_210207_cell_165.png',\n",
              " 'C101P62ThinF_IMG_20150918_151942_cell_69.png',\n",
              " 'C97P58ThinF_IMG_20150917_152437_cell_14.png',\n",
              " 'C116P77ThinF_IMG_20150930_171739_cell_107.png',\n",
              " 'C130P91ThinF_IMG_20151004_141504_cell_143.png',\n",
              " 'C80P41ThinF_IMG_20150817_110957_cell_150.png',\n",
              " 'C80P41ThinF_IMG_20150817_111121_cell_162.png',\n",
              " 'C189P150ThinF_IMG_20151203_141308_cell_63.png',\n",
              " 'C133P94ThinF_IMG_20151004_153930_cell_99.png',\n",
              " 'C84P45ThinF_IMG_20150818_104849_cell_24.png',\n",
              " 'C184P145ThinF_IMG_20151203_104334_cell_19.png',\n",
              " 'C184P145ThinF_IMG_20151203_104440_cell_5.png',\n",
              " 'C189P150ThinF_IMG_20151203_140902_cell_117.png',\n",
              " 'C70P31_ThinF_IMG_20150819_142239_cell_6.png',\n",
              " 'C56P17thinF_IMG_20150728_151330_cell_119.png',\n",
              " 'C97P58ThinF_IMG_20150917_151551_cell_170.png',\n",
              " 'C131P92ThinF_IMG_20151004_151126_cell_124.png',\n",
              " 'C136P97ThinF_IMG_20151005_140538_cell_105.png',\n",
              " 'C132P93ThinF_IMG_20151004_151733_cell_137.png',\n",
              " 'C137P98ThinF_IMG_20151005_163218_cell_74.png',\n",
              " 'C180P141NThinF_IMG_20151201_165453_cell_15.png',\n",
              " 'C129P90ThinF_IMG_20151004_133421_cell_115.png',\n",
              " 'C184P145ThinF_IMG_20151203_104334_cell_5.png',\n",
              " 'C59P20thinF_IMG_20150803_113809_cell_20.png',\n",
              " 'C116P77ThinF_IMG_20150930_171448_cell_94.png',\n",
              " 'C91P52ThinF_IMG_20150821_125423_cell_25.png',\n",
              " 'C39P4thinF_original_IMG_20150622_113446_cell_1.png',\n",
              " 'C142P103ThinF_IMG_20151005_221931_cell_190.png',\n",
              " 'C99P60ThinF_IMG_20150918_141351_cell_122.png',\n",
              " 'C129P90ThinF_IMG_20151004_133244_cell_120.png',\n",
              " 'C39P4thinF_original_IMG_20150622_113842_cell_7.png',\n",
              " 'C130P91ThinF_IMG_20151004_142109_cell_142.png',\n",
              " 'C129P90ThinF_IMG_20151004_133703_cell_86.png',\n",
              " 'C116P77ThinF_IMG_20150930_172112_cell_90.png',\n",
              " 'C59P20thinF_IMG_20150803_112858_cell_192.png',\n",
              " 'C82P43ThinF_IMG_20150817_124418_cell_175.png',\n",
              " 'C107P68ThinF_IMG_20150924_222415_cell_179.png',\n",
              " 'C67P28N_ThinF_IMG_20150819_132441_cell_171.png',\n",
              " 'C187P148NThinF_IMG_20151203_153036_cell_127.png',\n",
              " 'C82P43ThinF_IMG_20150817_123824_cell_213.png',\n",
              " 'C136P97ThinF_IMG_20151005_141803_cell_130.png',\n",
              " 'C172P133ThinF_IMG_20151119_155156_cell_257.png',\n",
              " 'C183P144NThinF_IMG_20151201_223208_cell_122.png',\n",
              " 'C101P62ThinF_IMG_20150918_151006_cell_61.png',\n",
              " 'C142P103ThinF_IMG_20151005_221900_cell_196.png',\n",
              " 'C130P91ThinF_IMG_20151004_142109_cell_138.png',\n",
              " 'C184P145ThinF_IMG_20151203_102405_cell_147.png',\n",
              " 'C132P93ThinF_IMG_20151004_151811_cell_169.png',\n",
              " 'C180P141NThinF_IMG_20151201_165601_cell_206.png',\n",
              " 'C131P92ThinF_IMG_20151004_145224_cell_137.png',\n",
              " 'C128P89ThinF_IMG_20151004_130810_cell_152.png',\n",
              " 'C97P58ThinF_IMG_20150917_151512_cell_171.png',\n",
              " 'C133P94ThinF_IMG_20151004_155331_cell_117.png',\n",
              " 'C133P94ThinF_IMG_20151004_154512_cell_125.png',\n",
              " 'C46P7ThinF_IMG_20151130_205756_cell_122.png',\n",
              " 'C93P54ThinF_IMG_20150821_162901_cell_205.png',\n",
              " 'C70P31_ThinF_IMG_20150813_131330_cell_99.png',\n",
              " 'C99P60ThinF_IMG_20150918_142128_cell_111.png',\n",
              " 'C81P42ThinF_IMG_20150817_120351_cell_187.png',\n",
              " 'C74P35_ThinF_IMG_20150815_121324_cell_135.png',\n",
              " 'C130P91ThinF_IMG_20151004_141341_cell_159.png',\n",
              " 'C116P77ThinF_IMG_20150930_171809_cell_76.png',\n",
              " 'C184P145ThinF_IMG_20151203_103114_cell_169.png',\n",
              " 'C68P29N_ThinF_IMG_20150819_134504_cell_116.png',\n",
              " 'C141P102ThinF_IMG_20151005_214033_cell_114.png',\n",
              " 'C110P71ThinF_IMG_20150930_110052_cell_242.png',\n",
              " 'C158P119ThinF_IMG_20151115_183157_cell_171.png',\n",
              " 'C67P28N_ThinF_IMG_20150819_132441_cell_173.png',\n",
              " 'C140P101ThinF_IMG_20151005_210309_cell_177.png',\n",
              " 'C97P58ThinF_IMG_20150917_152032_cell_159.png',\n",
              " 'C176P137NThinF_IMG_20151201_114235_cell_10.png',\n",
              " 'C181P142ThinF_IMG_20151127_155914_cell_167.png',\n",
              " 'C179P140ThinF_IMG_20151127_153436_cell_183.png',\n",
              " 'C182P143NThinF_IMG_20151201_171836_cell_179.png',\n",
              " 'C183P144NThinF_IMG_20151201_222917_cell_158.png',\n",
              " 'C63P24N_ThinF_IMG_20150818_143757_cell_173.png',\n",
              " 'C181P142ThinF_IMG_20151127_160650_cell_188.png',\n",
              " 'C66P27N_ThinF_IMG_20150818_163419_cell_208.png',\n",
              " 'C68P29N_ThinF_IMG_20150819_134112_cell_133.png',\n",
              " 'C48P9thinF_IMG_20150721_161412_cell_181.png',\n",
              " 'C158P119ThinF_IMG_20151115_181859_cell_196.png',\n",
              " 'C59P20thinF_IMG_20150803_112858_cell_169.png',\n",
              " 'C101P62ThinF_IMG_20150918_151942_cell_74.png',\n",
              " 'C80P41ThinF_IMG_20150817_110834_cell_142.png',\n",
              " 'C97P58ThinF_IMG_20150917_150838_cell_148.png',\n",
              " 'C63P24N_ThinF_IMG_20150818_143423_cell_167.png',\n",
              " 'C39P4thinF_original_IMG_20150622_110115_cell_124.png',\n",
              " 'C89P50ThinF_IMG_20150820_162813_cell_207.png',\n",
              " 'C65P26N_ThinF_IMG_20150818_154326_cell_184.png',\n",
              " 'C116P77ThinF_IMG_20150930_171635_cell_107.png',\n",
              " 'C167P128ReThinF_IMG_20151201_105354_cell_228.png',\n",
              " 'C180P141NThinF_IMG_20151201_163751_cell_185.png',\n",
              " 'C182P143NThinF_IMG_20151201_172607_cell_32.png',\n",
              " 'C37BP2_thinF_IMG_20150620_133111a_cell_86.png',\n",
              " 'C82P43ThinF_IMG_20150817_124010_cell_208.png',\n",
              " 'C121P82ThinF_IMG_20151002_134953_cell_71.png',\n",
              " 'C80P41ThinF_IMG_20150817_111802_cell_22.png',\n",
              " 'C113P74ThinF_IMG_20150930_134355_cell_167.png',\n",
              " 'C33P1thinF_IMG_20150619_120645a_cell_215.png',\n",
              " 'C179P140ThinF_IMG_20151127_153350_cell_172.png',\n",
              " 'C91P52ThinF_IMG_20150821_125423_cell_19.png',\n",
              " 'C135P96ThinF_IMG_20151005_123857_cell_162.png',\n",
              " 'C180P141NThinF_IMG_20151201_165528_cell_191.png',\n",
              " 'C60P21thinF_IMG_20150804_105955_cell_121.png',\n",
              " 'C116P77ThinF_IMG_20150930_171558_cell_147.png',\n",
              " 'C113P74ThinF_IMG_20150930_134614_cell_171.png',\n",
              " 'C116P77ThinF_IMG_20150930_171844_cell_117.png',\n",
              " 'C140P101ThinF_IMG_20151005_210309_cell_187.png',\n",
              " 'C136P97ThinF_IMG_20151005_141946_cell_119.png',\n",
              " 'C116P77ThinF_IMG_20150930_171558_cell_108.png',\n",
              " 'C182P143NThinF_IMG_20151201_171950_cell_177.png',\n",
              " 'C59P20thinF_IMG_20150803_112858_cell_181.png',\n",
              " 'C51AP12thinF_IMG_20150724_154330_cell_131.png',\n",
              " 'C113P74ThinF_IMG_20150930_135904_cell_188.png',\n",
              " 'C39P4thinF_original_IMG_20150622_110900_cell_19.png',\n",
              " 'C51AP12thinF_IMG_20150724_155947_cell_97.png',\n",
              " 'C48P9thinF_IMG_20150721_161055_cell_186.png',\n",
              " 'C116P77ThinF_IMG_20150930_171558_cell_121.png',\n",
              " 'C181P142ThinF_IMG_20151127_155914_cell_161.png',\n",
              " 'C180P141NThinF_IMG_20151201_165453_cell_38.png',\n",
              " 'C132P93ThinF_IMG_20151004_152045_cell_132.png',\n",
              " 'C181P142ThinF_IMG_20151127_155722_cell_195.png',\n",
              " 'C112P73ThinF_IMG_20150930_131605_cell_181.png',\n",
              " 'C120P81ThinF_IMG_20151002_125443_cell_132.png',\n",
              " 'C130P91ThinF_IMG_20151004_141504_cell_150.png',\n",
              " 'C52P13thinF_IMG_20150725_124830_cell_176.png',\n",
              " 'C91P52ThinF_IMG_20150821_125423_cell_14.png',\n",
              " 'C116P77ThinF_IMG_20150930_171954_cell_84.png',\n",
              " 'C51AP12thinF_IMG_20150724_154330_cell_109.png',\n",
              " 'C116P77ThinF_IMG_20150930_171635_cell_78.png',\n",
              " 'C37BP2_thinF_IMG_20150620_131423a_cell_92.png',\n",
              " 'C157P118ThinF_IMG_20151115_162818_cell_187.png',\n",
              " 'C159P120ThinF_IMG_20151115_190642_cell_198.png',\n",
              " 'C99P60ThinF_IMG_20150918_140900_cell_104.png',\n",
              " 'C80P41ThinF_IMG_20150817_112329_cell_13.png',\n",
              " 'C59P20thinF_IMG_20150803_111244_cell_191.png',\n",
              " 'C189P150ThinF_IMG_20151203_141406_cell_99.png',\n",
              " 'C130P91ThinF_IMG_20151004_141341_cell_152.png',\n",
              " 'C45P6ThinF_IMG_20151130_155110_cell_207.png',\n",
              " 'C180P141NThinF_IMG_20151201_163702_cell_188.png',\n",
              " 'C128P89ThinF_IMG_20151004_131753_cell_126.png',\n",
              " 'C48P9thinF_IMG_20150721_160406_cell_207.png',\n",
              " 'C137P98ThinF_IMG_20151005_163901_cell_69.png',\n",
              " 'C101P62ThinF_IMG_20150923_170110_cell_4.png',\n",
              " 'C184P145ThinF_IMG_20151203_103114_cell_172.png',\n",
              " 'C132P93ThinF_IMG_20151004_152045_cell_113.png',\n",
              " 'C51AP12thinF_IMG_20150724_155557_cell_80.png',\n",
              " 'C68P29N_ThinF_IMG_20150819_134712_cell_8.png',\n",
              " 'C144P105ThinF_IMG_20151015_155004_cell_299.png',\n",
              " 'C179P140ThinF_IMG_20151127_153436_cell_184.png',\n",
              " 'C137P98ThinF_IMG_20151005_155704_cell_53.png',\n",
              " 'C101P62ThinF_IMG_20150918_151507_cell_55.png',\n",
              " 'C101P62ThinF_IMG_20150923_170344_cell_74.png',\n",
              " 'C84P45ThinF_IMG_20150818_103817_cell_2.png',\n",
              " 'C98P59ThinF_IMG_20150917_153311_cell_159.png',\n",
              " 'C39P4thinF_original_IMG_20150622_110900_cell_2.png',\n",
              " 'C91P52ThinF_IMG_20150821_125154_cell_209.png',\n",
              " 'C182P143NThinF_IMG_20151201_172216_cell_172.png',\n",
              " 'C159P120ThinF_IMG_20151115_191301_cell_228.png',\n",
              " 'C59P20thinF_IMG_20150803_113139_cell_28.png',\n",
              " 'C137P98ThinF_IMG_20151005_155704_cell_51.png',\n",
              " 'C49P10thinF_IMG_20150724_102330_cell_225.png',\n",
              " 'C183P144NThinF_IMG_20151201_224107_cell_134.png',\n",
              " 'C59P20thinF_IMG_20150803_111333_cell_140.png',\n",
              " 'C136P97ThinF_IMG_20151005_144449_cell_4.png',\n",
              " 'C116P77ThinF_IMG_20150930_171448_cell_91.png',\n",
              " 'C188P149ThinF_IMG_20151203_134209_cell_201.png',\n",
              " 'C181P142ThinF_IMG_20151127_160514_cell_163.png',\n",
              " 'C68P29N_ThinF_IMG_20150819_133236_cell_197.png',\n",
              " 'C146P107ThinF_IMG_20151018_140044_cell_219.png',\n",
              " 'C136P97ThinF_IMG_20151005_140646_cell_107.png',\n",
              " 'C114P75ThinF_IMG_20150930_150145_cell_160.png',\n",
              " 'C184P145ThinF_IMG_20151203_102543_cell_144.png',\n",
              " 'C118P79ThinF_IMG_20151002_110834_cell_142.png',\n",
              " 'C116P77ThinF_IMG_20150930_171954_cell_88.png',\n",
              " 'C176P137NThinF_IMG_20151201_120612_cell_3.png',\n",
              " 'C132P93ThinF_IMG_20151004_151811_cell_145.png',\n",
              " 'C78P39ThinF_IMG_20150606_103413_cell_172.png',\n",
              " 'C107P68ThinF_IMG_20150924_222233_cell_156.png',\n",
              " 'C167P128ReThinF_IMG_20151201_110011_cell_234.png',\n",
              " 'C137P98ThinF_IMG_20151005_163946_cell_15.png',\n",
              " 'C91P52ThinF_IMG_20150821_124504_cell_203.png',\n",
              " 'C182P143NThinF_IMG_20151201_172257_cell_187.png',\n",
              " 'C101P62ThinF_IMG_20150918_151942_cell_80.png',\n",
              " 'C48P9thinF_IMG_20150721_164304_cell_12.png',\n",
              " 'C59P20thinF_IMG_20150803_113809_cell_11.png',\n",
              " 'C97P58ThinF_IMG_20150917_151320_cell_160.png',\n",
              " 'C46P7ThinF_IMG_20151130_205756_cell_131.png',\n",
              " 'C63P24N_ThinF_IMG_20150818_143757_cell_176.png',\n",
              " 'C129P90ThinF_IMG_20151004_133538_cell_92.png',\n",
              " 'C81P42ThinF_IMG_20150817_121113_cell_177.png',\n",
              " 'C129P90ThinF_IMG_20151004_133538_cell_104.png',\n",
              " 'C189P150ThinF_IMG_20151203_141719_cell_61.png',\n",
              " 'C46P7ThinF_IMG_20151130_210815_cell_7.png',\n",
              " 'C130P91ThinF_IMG_20151004_142109_cell_135.png',\n",
              " 'C116P77ThinF_IMG_20150930_171219_cell_104.png',\n",
              " 'C184P145ThinF_IMG_20151203_104030_cell_30.png',\n",
              " 'C52P13thinF_IMG_20150725_124606_cell_163.png',\n",
              " 'C99P60ThinF_IMG_20150918_140900_cell_105.png',\n",
              " 'C101P62ThinF_IMG_20150923_170344_cell_86.png',\n",
              " 'C59P20thinF_IMG_20150803_113809_cell_37.png',\n",
              " 'C137P98ThinF_IMG_20151005_155704_cell_57.png',\n",
              " 'C68P29N_ThinF_IMG_20150819_134625_cell_46.png',\n",
              " 'C39P4thinF_original_IMG_20150622_111942_cell_12.png',\n",
              " 'C132P93ThinF_IMG_20151004_151733_cell_145.png',\n",
              " 'C99P60ThinF_IMG_20150918_140900_cell_97.png',\n",
              " 'C66P27N_ThinF_IMG_20150818_163419_cell_207.png',\n",
              " 'C101P62ThinF_IMG_20150923_170110_cell_15.png',\n",
              " 'C68P29N_ThinF_IMG_20150819_134830_cell_63.png',\n",
              " 'C184P145ThinF_IMG_20151203_104334_cell_16.png',\n",
              " 'C39P4thinF_original_IMG_20150622_111206_cell_93.png',\n",
              " 'C137P98ThinF_IMG_20151005_163946_cell_3.png',\n",
              " 'C60P21thinF_IMG_20150803_144003_cell_124.png',\n",
              " 'C175P136NThinF_IMG_20151127_142326_cell_220.png',\n",
              " 'C82P43ThinF_IMG_20150817_124418_cell_169.png',\n",
              " 'C118P79ThinF_IMG_20151002_105346_cell_159.png',\n",
              " 'C133P94ThinF_IMG_20151004_155721_cell_111.png',\n",
              " 'C46P7ThinF_IMG_20151130_205756_cell_128.png',\n",
              " 'C133P94ThinF_IMG_20151004_155331_cell_111.png',\n",
              " 'C33P1thinF_IMG_20150619_120742a_cell_210.png',\n",
              " 'C133P94ThinF_IMG_20151004_155144_cell_137.png',\n",
              " 'C133P94ThinF_IMG_20151004_154512_cell_133.png',\n",
              " 'C84P45ThinF_IMG_20150818_101550_cell_108.png',\n",
              " 'C184P145ThinF_IMG_20151203_102543_cell_140.png',\n",
              " 'C116P77ThinF_IMG_20150930_171739_cell_92.png',\n",
              " 'C132P93ThinF_IMG_20151004_151733_cell_171.png',\n",
              " 'C68P29N_ThinF_IMG_20150819_134712_cell_72.png',\n",
              " 'C176P137NThinF_IMG_20151201_114235_cell_12.png',\n",
              " 'C72P33_ThinF_IMG_20150815_104307_cell_222.png',\n",
              " 'C132P93ThinF_IMG_20151004_152642_cell_38.png',\n",
              " 'C80P41ThinF_IMG_20150817_111943_cell_9.png',\n",
              " 'C184P145ThinF_IMG_20151203_103326_cell_155.png',\n",
              " 'C59P20thinF_IMG_20150803_115303_cell_7.png',\n",
              " 'C99P60ThinF_IMG_20150918_142128_cell_90.png',\n",
              " 'C126P87ThinF_IMG_20151004_104651_cell_2.png',\n",
              " 'C99P60ThinF_IMG_20150918_141129_cell_153.png',\n",
              " 'C39P4thinF_original_IMG_20150622_110115_cell_129.png',\n",
              " 'C39P4thinF_original_IMG_20150622_105253_cell_107.png',\n",
              " 'C68P29N_ThinF_IMG_20150819_134504_cell_146.png',\n",
              " 'C175P136NThinF_IMG_20151127_141325_cell_227.png',\n",
              " 'C182P143NThinF_IMG_20151201_172057_cell_148.png',\n",
              " 'C87P48ThinF_IMG_20150820_144855_cell_183.png',\n",
              " 'C137P98ThinF_IMG_20151005_163218_cell_87.png',\n",
              " 'C136P97ThinF_IMG_20151005_144727_cell_126.png',\n",
              " 'C132P93ThinF_IMG_20151004_152642_cell_28.png',\n",
              " 'C129P90ThinF_IMG_20151004_134520_cell_121.png',\n",
              " 'C68P29N_ThinF_IMG_20150819_133236_cell_131.png',\n",
              " 'C184P145ThinF_IMG_20151203_103326_cell_153.png',\n",
              " 'C84P45ThinF_IMG_20150818_101412_cell_99.png',\n",
              " 'C116P77ThinF_IMG_20150930_171448_cell_130.png',\n",
              " 'C180P141NThinF_IMG_20151201_164714_cell_174.png',\n",
              " 'C68P29N_ThinF_IMG_20150819_134326_cell_118.png',\n",
              " 'C99P60ThinF_IMG_20150918_141857_cell_13.png',\n",
              " 'C99P60ThinF_IMG_20150918_142128_cell_87.png',\n",
              " 'C99P60ThinF_IMG_20150918_141129_cell_123.png',\n",
              " 'C116P77ThinF_IMG_20150930_171739_cell_78.png',\n",
              " 'C48P9thinF_IMG_20150721_164129_cell_30.png',\n",
              " 'C118P79ThinF_IMG_20151002_110942_cell_11.png',\n",
              " 'C172P133ThinF_IMG_20151119_155156_cell_260.png',\n",
              " 'C39P4thinF_original_IMG_20150622_112119_cell_1.png',\n",
              " 'C101P62ThinF_IMG_20150918_151006_cell_83.png',\n",
              " 'C182P143NThinF_IMG_20151201_172216_cell_152.png',\n",
              " 'C137P98ThinF_IMG_20151005_160918_cell_79.png',\n",
              " 'C182P143NThinF_IMG_20151201_171905_cell_164.png',\n",
              " 'C183P144NThinF_IMG_20151201_223208_cell_112.png',\n",
              " 'C84P45ThinF_IMG_20150818_104849_cell_3.png',\n",
              " 'C172P133ThinF_IMG_20151119_155019_cell_239.png',\n",
              " 'C46P7ThinF_IMG_20151130_205558_cell_158.png',\n",
              " 'C140P101ThinF_IMG_20151005_210026_cell_174.png',\n",
              " 'C106P67ThinF_IMG_20150924_102245_cell_164.png',\n",
              " 'C133P94ThinF_IMG_20151004_154351_cell_96.png',\n",
              " 'C180P141NThinF_IMG_20151201_164714_cell_163.png',\n",
              " 'C118P79ThinF_IMG_20151002_104831_cell_144.png',\n",
              " 'C95P56ThinF_IMG_20150821_171603_cell_81.png',\n",
              " 'C99P60ThinF_IMG_20150918_141857_cell_26.png',\n",
              " 'C124P85ThinF_IMG_20151002_154846_cell_156.png',\n",
              " 'C187P148NThinF_IMG_20151203_154200_cell_136.png',\n",
              " 'C189P150ThinF_IMG_20151203_141004_cell_73.png',\n",
              " 'C180P141NThinF_IMG_20151201_163848_cell_180.png',\n",
              " 'C98P59ThinF_IMG_20150917_154452_cell_205.png',\n",
              " 'C128P89ThinF_IMG_20151004_131231_cell_141.png',\n",
              " 'C137P98ThinF_IMG_20151005_155704_cell_61.png',\n",
              " 'C50P11thinF_IMG_20150724_115749_cell_174.png',\n",
              " 'C181P142ThinF_IMG_20151127_155914_cell_156.png',\n",
              " 'C76P37ThinF_IMG_20150815_171454_cell_252.png',\n",
              " 'C67P28N_ThinF_IMG_20150819_115955_cell_174.png',\n",
              " 'C84P45ThinF_IMG_20150818_104849_cell_5.png',\n",
              " 'C82P43ThinF_IMG_20150817_124728_cell_7.png',\n",
              " 'C179P140ThinF_IMG_20151127_153521_cell_171.png',\n",
              " 'C117P78ThinF_IMG_20150930_214138_cell_96.png',\n",
              " 'C80P41ThinF_IMG_20150817_112329_cell_21.png',\n",
              " 'C74P35_ThinF_IMG_20150815_113951_cell_128.png',\n",
              " 'C188P149ThinF_IMG_20151203_134229_cell_217.png',\n",
              " 'C179P140ThinF_IMG_20151127_153852_cell_157.png',\n",
              " 'C174P135NThinF_IMG_20151127_135512_cell_184.png',\n",
              " 'C93P54ThinF_IMG_20150821_163815_cell_211.png',\n",
              " 'C181P142ThinF_IMG_20151127_160434_cell_158.png',\n",
              " 'C175P136NThinF_IMG_20151127_141428_cell_226.png',\n",
              " 'C136P97ThinF_IMG_20151005_143743_cell_114.png',\n",
              " 'C176P137NThinF_IMG_20151201_122811_cell_137.png',\n",
              " 'C162P123ThinF_IMG_20151116_105019_cell_146.png',\n",
              " 'C138P99ThinF_IMG_20151005_173241_cell_152.png',\n",
              " 'C176P137NThinF_IMG_20151201_121808_cell_122.png',\n",
              " 'C76P37ThinF_IMG_20150815_171454_cell_247.png',\n",
              " 'C184P145ThinF_IMG_20151203_103637_cell_184.png',\n",
              " 'C140P101ThinF_IMG_20151005_210309_cell_176.png',\n",
              " 'C137P98ThinF_IMG_20151005_155704_cell_56.png',\n",
              " 'C182P143NThinF_IMG_20151201_172057_cell_164.png',\n",
              " 'C99P60ThinF_IMG_20150918_142334_cell_30.png',\n",
              " 'C137P98ThinF_IMG_20151005_163901_cell_71.png',\n",
              " 'C132P93ThinF_IMG_20151004_152045_cell_126.png',\n",
              " 'C80P41ThinF_IMG_20150817_110957_cell_135.png',\n",
              " 'C103P64ThinF_IMG_20150918_165510_cell_177.png',\n",
              " 'C46P7ThinF_IMG_20151130_205719_cell_128.png',\n",
              " 'C116P77ThinF_IMG_20150930_171954_cell_90.png',\n",
              " 'C136P97ThinF_IMG_20151005_143329_cell_97.png',\n",
              " 'C136P97ThinF_IMG_20151005_142627_cell_5.png',\n",
              " 'C70P31_ThinF_IMG_20150813_130332_cell_97.png',\n",
              " 'C137P98ThinF_IMG_20151005_163946_cell_16.png',\n",
              " 'C68P29N_ThinF_IMG_20150819_133236_cell_169.png',\n",
              " 'C97P58ThinF_IMG_20150917_151903_cell_1.png',\n",
              " 'C176P137NThinF_IMG_20151201_122708_cell_138.png',\n",
              " 'C45P6ThinF_IMG_20151130_160409_cell_192.png',\n",
              " 'C46P7ThinF_IMG_20151130_205558_cell_162.png',\n",
              " 'C99P60ThinF_IMG_20150918_142334_cell_18.png',\n",
              " 'C68P29N_ThinF_IMG_20150819_134112_cell_106.png',\n",
              " 'C189P150ThinF_IMG_20151203_141004_cell_79.png',\n",
              " 'C184P145ThinF_IMG_20151203_103824_cell_116.png',\n",
              " 'C118P79ThinF_IMG_20151002_110725_cell_148.png',\n",
              " 'C182P143NThinF_IMG_20151201_171950_cell_165.png',\n",
              " 'C80P41ThinF_IMG_20150817_110957_cell_134.png',\n",
              " 'C129P90ThinF_IMG_20151004_134944_cell_18.png',\n",
              " 'C116P77ThinF_IMG_20150930_172112_cell_79.png',\n",
              " 'C100P61ThinF_IMG_20150918_144104_cell_170.png',\n",
              " 'C53P14thinF_IMG_20150726_114918_cell_176.png',\n",
              " 'C59P20thinF_IMG_20150803_112733_cell_189.png',\n",
              " 'C146P107ThinF_IMG_20151018_140439_cell_284.png',\n",
              " 'C182P143NThinF_IMG_20151201_172257_cell_188.png',\n",
              " 'C133P94ThinF_IMG_20151004_155721_cell_124.png',\n",
              " 'C184P145ThinF_IMG_20151203_104440_cell_15.png',\n",
              " 'C80P41ThinF_IMG_20150817_111246_cell_121.png',\n",
              " 'C184P145ThinF_IMG_20151203_103637_cell_181.png',\n",
              " 'C39P4thinF_original_IMG_20150622_113126_cell_9.png',\n",
              " 'C182P143NThinF_IMG_20151201_172216_cell_176.png',\n",
              " 'C180P141NThinF_IMG_20151201_170021_cell_26.png',\n",
              " 'C136P97ThinF_IMG_20151005_140646_cell_125.png',\n",
              " 'C91P52ThinF_IMG_20150821_124739_cell_173.png',\n",
              " 'C182P143NThinF_IMG_20151201_172607_cell_44.png',\n",
              " 'C39P4thinF_original_IMG_20150622_110115_cell_112.png',\n",
              " 'C180P141NThinF_IMG_20151201_164714_cell_183.png',\n",
              " 'C39P4thinF_original_IMG_20150622_110352_cell_109.png',\n",
              " 'C46P7ThinF_IMG_20151130_205558_cell_149.png',\n",
              " 'C123P84ThinF_IMG_20151002_150931_cell_197.png',\n",
              " 'C84P45ThinF_IMG_20150818_101412_cell_111.png',\n",
              " 'C68P29N_ThinF_IMG_20150819_134504_cell_131.png',\n",
              " 'C128P89ThinF_IMG_20151004_130810_cell_154.png',\n",
              " 'C97P58ThinF_IMG_20150917_152032_cell_170.png',\n",
              " 'C132P93ThinF_IMG_20151004_152642_cell_15.png',\n",
              " 'C45P6ThinF_IMG_20151130_160135_cell_222.png',\n",
              " 'C91P52ThinF_IMG_20150821_124739_cell_197.png',\n",
              " 'C48P9thinF_IMG_20150721_160406_cell_242.png',\n",
              " 'C45P6ThinF_IMG_20151130_160135_cell_220.png',\n",
              " 'C39P4thinF_original_IMG_20150622_110352_cell_88.png',\n",
              " 'C129P90ThinF_IMG_20151004_134306_cell_143.png',\n",
              " 'C84P45ThinF_IMG_20150818_101257_cell_81.png',\n",
              " 'C188P149ThinF_IMG_20151203_134319_cell_192.png',\n",
              " 'C167P128ReThinF_IMG_20151201_110011_cell_237.png',\n",
              " 'C120P81ThinF_IMG_20151002_125443_cell_143.png',\n",
              " 'C118P79ThinF_IMG_20151002_110609_cell_7.png',\n",
              " 'C66P27N_ThinF_IMG_20150818_163419_cell_197.png',\n",
              " 'C142P103ThinF_IMG_20151005_223257_cell_185.png',\n",
              " 'C163P124ThinF_IMG_20151116_110921_cell_243.png',\n",
              " 'C63P24N_ThinF_IMG_20150818_143544_cell_173.png',\n",
              " 'C183P144NThinF_IMG_20151201_223758_cell_127.png',\n",
              " 'C117P78ThinF_IMG_20150930_221812_cell_78.png',\n",
              " 'C91P52ThinF_IMG_20150821_124504_cell_188.png',\n",
              " 'C90P51ThinF_IMG_20150821_115310_cell_199.png',\n",
              " 'C76P37ThinF_IMG_20150815_173019_cell_228.png',\n",
              " 'C125P86ThinF_IMG_20151004_102619_cell_144.png',\n",
              " 'C89P50ThinF_IMG_20150820_162504_cell_199.png',\n",
              " 'C172P133ThinF_IMG_20151119_155307_cell_260.png',\n",
              " 'C48P9thinF_IMG_20150721_160406_cell_237.png',\n",
              " 'C47P8thin_Original_Motic_IMG_20150714_093512_cell_171.png',\n",
              " 'C189P150ThinF_IMG_20151203_141004_cell_81.png',\n",
              " 'C80P41ThinF_IMG_20150817_110834_cell_123.png',\n",
              " 'C137P98ThinF_IMG_20151005_163901_cell_83.png',\n",
              " 'C39P4thinF_original_IMG_20150622_111206_cell_82.png',\n",
              " 'C116P77ThinF_IMG_20150930_172112_cell_94.png',\n",
              " 'C164P125ThinF_IMG_20151116_115604_cell_3.png',\n",
              " 'C179P140ThinF_IMG_20151127_153819_cell_179.png',\n",
              " 'C39P4thinF_original_IMG_20150622_112119_cell_20.png',\n",
              " 'C97P58ThinF_IMG_20150917_151437_cell_163.png',\n",
              " 'C137P98ThinF_IMG_20151005_162348_cell_5.png',\n",
              " 'C117P78ThinF_IMG_20150930_214511_cell_91.png',\n",
              " 'C48P9thinF_IMG_20150721_163810_cell_3.png',\n",
              " 'C91P52ThinF_IMG_20150821_124504_cell_196.png',\n",
              " 'C68P29N_ThinF_IMG_20150819_133236_cell_158.png',\n",
              " 'C129P90ThinF_IMG_20151004_133703_cell_103.png',\n",
              " 'C182P143NThinF_IMG_20151201_172607_cell_23.png',\n",
              " 'C97P58ThinF_IMG_20150917_145555_cell_187.png',\n",
              " 'C128P89ThinF_IMG_20151004_130810_cell_148.png',\n",
              " 'C39P4thinF_original_IMG_20150622_111206_cell_80.png',\n",
              " 'C180P141NThinF_IMG_20151201_165528_cell_171.png',\n",
              " 'C179P140ThinF_IMG_20151127_153521_cell_166.png',\n",
              " 'C51AP12thinF_IMG_20150724_154330_cell_111.png',\n",
              " 'C102P63ThinF_IMG_20150918_162927_cell_2.png',\n",
              " 'C101P62ThinF_IMG_20150923_170110_cell_3.png',\n",
              " 'C119P80ThinF_IMG_20151002_124345_cell_144.png',\n",
              " 'C116P77ThinF_IMG_20150930_171448_cell_92.png',\n",
              " 'C63P24N_ThinF_IMG_20150818_144456_cell_180.png',\n",
              " 'C93P54ThinF_IMG_20150821_162901_cell_199.png',\n",
              " 'C118P79ThinF_IMG_20151002_105827_cell_141.png',\n",
              " 'C184P145ThinF_IMG_20151203_102543_cell_142.png',\n",
              " 'C45P6ThinF_IMG_20151130_160241_cell_198.png',\n",
              " 'C178P139NThinF_IMG_20151201_153246_cell_156.png',\n",
              " 'C70P31_ThinF_IMG_20150813_131708_cell_6.png',\n",
              " 'C59P20thinF_IMG_20150803_112858_cell_190.png',\n",
              " 'C82P43ThinF_IMG_20150817_125114_cell_10.png',\n",
              " 'C119P80ThinF_IMG_20151002_123608_cell_150.png',\n",
              " 'C101P62ThinF_IMG_20150918_151507_cell_51.png',\n",
              " 'C118P79ThinF_IMG_20151002_105125_cell_154.png',\n",
              " 'C186P147NThinF_IMG_20151203_150557_cell_178.png',\n",
              " 'C63P24N_ThinF_IMG_20150818_143757_cell_178.png',\n",
              " 'C68P29N_ThinF_IMG_20150819_134504_cell_112.png',\n",
              " 'C128P89ThinF_IMG_20151004_130549_cell_148.png',\n",
              " 'C81P42ThinF_IMG_20150817_115942_cell_217.png',\n",
              " 'C184P145ThinF_IMG_20151203_104153_cell_162.png',\n",
              " 'C181P142ThinF_IMG_20151127_155914_cell_178.png',\n",
              " 'C51AP12thinF_IMG_20150724_155557_cell_77.png',\n",
              " 'C48P9thinF_IMG_20150721_164031_cell_6.png',\n",
              " 'C80P41ThinF_IMG_20150817_110608_cell_154.png',\n",
              " 'C48P9thinF_IMG_20150721_164304_cell_17.png',\n",
              " 'C101P62ThinF_IMG_20150918_151239_cell_91.png',\n",
              " 'C108P69ThinF_IMG_20150924_224038_cell_189.png',\n",
              " 'C182P143NThinF_IMG_20151201_172607_cell_22.png',\n",
              " 'C88P49ThinF_IMG_20150820_152521_cell_218.png',\n",
              " 'C131P92ThinF_IMG_20151004_150208_cell_136.png',\n",
              " 'C137P98ThinF_IMG_20151005_163218_cell_73.png',\n",
              " 'C70P31_ThinF_IMG_20150813_132732_cell_4.png',\n",
              " 'C76P37ThinF_IMG_20150815_173019_cell_232.png',\n",
              " 'C180P141NThinF_IMG_20151201_163702_cell_172.png',\n",
              " 'C132P93ThinF_IMG_20151004_152808_cell_39.png',\n",
              " 'C179P140ThinF_IMG_20151127_153350_cell_178.png',\n",
              " 'C167P128ReThinF_IMG_20151201_105559_cell_233.png',\n",
              " 'C183P144NThinF_IMG_20151201_223758_cell_138.png',\n",
              " 'C183P144NThinF_IMG_20151201_224107_cell_127.png',\n",
              " 'C59P20thinF_IMG_20150803_112733_cell_195.png',\n",
              " 'C170P131ThinF_IMG_20151119_120019_cell_248.png',\n",
              " 'C180P141NThinF_IMG_20151201_163702_cell_196.png',\n",
              " 'C175P136NThinF_IMG_20151127_141253_cell_242.png',\n",
              " 'C157P118ThinF_IMG_20151115_164026_cell_231.png',\n",
              " 'C132P93ThinF_IMG_20151004_152808_cell_8.png',\n",
              " 'C84P45ThinF_IMG_20150818_104156_cell_117.png',\n",
              " 'C116P77ThinF_IMG_20150930_171448_cell_124.png',\n",
              " 'C189P150ThinF_IMG_20151203_141901_cell_79.png',\n",
              " 'C52P13thinF_IMG_20150725_123938_cell_196.png',\n",
              " 'C130P91ThinF_IMG_20151004_142951_cell_153.png',\n",
              " 'C129P90ThinF_IMG_20151004_133538_cell_82.png',\n",
              " 'C182P143NThinF_IMG_20151201_171950_cell_169.png',\n",
              " 'C70P31_ThinF_IMG_20150819_142703_cell_7.png',\n",
              " 'C137P98ThinF_IMG_20151005_163946_cell_1.png',\n",
              " 'C184P145ThinF_IMG_20151203_104440_cell_7.png',\n",
              " 'C133P94ThinF_IMG_20151004_154158_cell_117.png',\n",
              " 'C133P94ThinF_IMG_20151004_154158_cell_112.png',\n",
              " 'C149P110ThinF_IMG_20151115_114729_cell_262.png',\n",
              " 'C91P52ThinF_IMG_20150821_123116_cell_187.png',\n",
              " 'C37BP2_thinF_IMG_20150620_132847a_cell_77.png',\n",
              " 'C116P77ThinF_IMG_20150930_171739_cell_87.png',\n",
              " 'C182P143NThinF_IMG_20151201_172842_cell_32.png',\n",
              " 'C164P125ThinF_IMG_20151116_114404_cell_174.png',\n",
              " 'C125P86ThinF_IMG_20151004_102205_cell_175.png',\n",
              " 'C59P20thinF_IMG_20150803_113139_cell_38.png',\n",
              " 'C80P41ThinF_IMG_20150817_111802_cell_18.png',\n",
              " 'C102P63ThinF_IMG_20150918_162051_cell_147.png',\n",
              " 'C97P58ThinF_IMG_20150917_145555_cell_173.png',\n",
              " 'C132P93ThinF_IMG_20151004_152505_cell_131.png',\n",
              " 'C140P101ThinF_IMG_20151005_211735_cell_161.png',\n",
              " 'C49P10thinF_IMG_20150724_102330_cell_231.png',\n",
              " 'C97P58ThinF_IMG_20150917_145555_cell_171.png',\n",
              " 'C129P90ThinF_IMG_20151004_134636_cell_2.png',\n",
              " 'C79P40ThinF_IMG_20150817_103901_cell_122.png',\n",
              " 'C108P69ThinF_IMG_20150924_225004_cell_222.png',\n",
              " 'C39P4thinF_original_IMG_20150622_113632_cell_34.png',\n",
              " 'C180P141NThinF_IMG_20151201_163751_cell_175.png',\n",
              " 'C99P60ThinF_IMG_20150918_142334_cell_45.png',\n",
              " 'C48P9thinF_IMG_20150721_164304_cell_3.png',\n",
              " 'C118P79ThinF_IMG_20151002_105346_cell_161.png',\n",
              " 'C146P107ThinF_IMG_20151018_134554_cell_248.png',\n",
              " 'C182P143NThinF_IMG_20151201_171836_cell_159.png',\n",
              " 'C82P43ThinF_IMG_20150817_124010_cell_211.png',\n",
              " 'C181P142ThinF_IMG_20151127_155722_cell_186.png',\n",
              " 'C91P52ThinF_IMG_20150821_124311_cell_12.png',\n",
              " 'C91P52ThinF_IMG_20150821_125423_cell_13.png',\n",
              " 'C54P15thinF_IMG_20150728_105949_cell_241.png',\n",
              " 'C182P143NThinF_IMG_20151201_172257_cell_157.png',\n",
              " 'C137P98ThinF_IMG_20151005_162437_cell_79.png',\n",
              " 'C136P97ThinF_IMG_20151005_142437_cell_104.png',\n",
              " 'C182P143NThinF_IMG_20151201_172524_cell_191.png',\n",
              " 'C184P145ThinF_IMG_20151203_104153_cell_185.png',\n",
              " 'C68P29N_ThinF_IMG_20150819_134712_cell_43.png',\n",
              " 'C59P20thinF_IMG_20150803_113430_cell_28.png',\n",
              " 'C39P4thinF_original_IMG_20150622_110115_cell_123.png',\n",
              " 'C145P106ThinF_IMG_20151016_154309_cell_149.png',\n",
              " 'C91P52ThinF_IMG_20150821_125154_cell_205.png',\n",
              " 'C166P127ThinF_IMG_20151117_194932_cell_223.png',\n",
              " 'C59P20thinF_IMG_20150803_115303_cell_19.png',\n",
              " 'C70P31_ThinF_IMG_20150813_131022_cell_95.png',\n",
              " 'C167P128ReThinF_IMG_20151201_105354_cell_247.png',\n",
              " 'C186P147NThinF_IMG_20151203_150408_cell_167.png',\n",
              " 'C45P6ThinF_IMG_20151130_155110_cell_201.png',\n",
              " 'C130P91ThinF_IMG_20151004_141428_cell_128.png',\n",
              " 'C101P62ThinF_IMG_20150918_151942_cell_68.png',\n",
              " 'C176P137NThinF_IMG_20151201_121808_cell_120.png',\n",
              " 'C183P144NThinF_IMG_20151201_222119_cell_143.png',\n",
              " 'C136P97ThinF_IMG_20151005_143329_cell_95.png',\n",
              " 'C93P54ThinF_IMG_20150821_163452_cell_211.png',\n",
              " 'C118P79ThinF_IMG_20151002_105827_cell_150.png',\n",
              " 'C182P143NThinF_IMG_20151201_172759_cell_47.png',\n",
              " 'C143P104ThinF_IMG_20151005_230100_cell_159.png',\n",
              " 'C101P62ThinF_IMG_20150918_151335_cell_65.png',\n",
              " 'C172P133ThinF_IMG_20151119_154936_cell_252.png',\n",
              " 'C129P90ThinF_IMG_20151004_133703_cell_107.png',\n",
              " 'C118P79ThinF_IMG_20151002_105018_cell_162.png',\n",
              " 'C137P98ThinF_IMG_20151005_155444_cell_101.png',\n",
              " 'C51AP12thinF_IMG_20150724_154243_cell_124.png',\n",
              " 'C59P20thinF_IMG_20150803_113139_cell_10.png',\n",
              " 'C182P143NThinF_IMG_20151201_171836_cell_175.png',\n",
              " 'C99P60ThinF_IMG_20150918_140900_cell_128.png',\n",
              " 'C82P43ThinF_IMG_20150817_124728_cell_5.png',\n",
              " 'C76P37ThinF_IMG_20150815_172902_cell_218.png',\n",
              " 'C98P59ThinF_IMG_20150917_154452_cell_209.png',\n",
              " 'C137P98ThinF_IMG_20151005_163251_cell_76.png',\n",
              " 'C132P93ThinF_IMG_20151004_151701_cell_173.png',\n",
              " 'C120P81ThinF_IMG_20151002_130150_cell_203.png',\n",
              " 'C186P147NThinF_IMG_20151203_150222_cell_176.png',\n",
              " 'C132P93ThinF_IMG_20151004_152808_cell_23.png',\n",
              " 'C45P6ThinF_IMG_20151130_155110_cell_210.png',\n",
              " 'C117P78ThinF_IMG_20150930_221927_cell_78.png',\n",
              " 'C133P94ThinF_IMG_20151004_154919_cell_118.png',\n",
              " 'C171P132ThinF_IMG_20151119_153512_cell_191.png',\n",
              " 'C59P20thinF_IMG_20150803_112802_cell_180.png',\n",
              " 'C82P43ThinF_IMG_20150817_123824_cell_183.png',\n",
              " 'C180P141NThinF_IMG_20151201_165453_cell_3.png',\n",
              " 'C52P13thinF_IMG_20150725_123938_cell_195.png',\n",
              " ...]"
            ]
          },
          "metadata": {},
          "execution_count": 16
        }
      ],
      "source": [
        "os.listdir(train_path+'parasitized')"
      ]
    },
    {
      "cell_type": "code",
      "execution_count": 17,
      "metadata": {
        "id": "U3zWAaJRsl9N",
        "colab": {
          "base_uri": "https://localhost:8080/"
        },
        "outputId": "a9fd13a6-558a-4fb6-e91a-712d448b8862"
      },
      "outputs": [
        {
          "output_type": "execute_result",
          "data": {
            "text/plain": [
              "(12480, 12480)"
            ]
          },
          "metadata": {},
          "execution_count": 17
        }
      ],
      "source": [
        "len(os.listdir(train_path+'parasitized')), len(os.listdir(train_path+'uninfected'))"
      ]
    },
    {
      "cell_type": "code",
      "execution_count": 18,
      "metadata": {
        "id": "pQluIckosl9O",
        "colab": {
          "base_uri": "https://localhost:8080/"
        },
        "outputId": "6aeadaa8-e6c3-4253-e1c7-c39a6c2a28e1"
      },
      "outputs": [
        {
          "output_type": "execute_result",
          "data": {
            "text/plain": [
              "(1300, 1300)"
            ]
          },
          "metadata": {},
          "execution_count": 18
        }
      ],
      "source": [
        "len(os.listdir(test_path+'parasitized')), len(os.listdir(test_path+'uninfected'))"
      ]
    },
    {
      "cell_type": "code",
      "execution_count": 19,
      "metadata": {
        "id": "nz_3zdr4avaP",
        "colab": {
          "base_uri": "https://localhost:8080/"
        },
        "outputId": "f941b71f-6bb4-495b-932b-6ff32ea93202"
      },
      "outputs": [
        {
          "output_type": "stream",
          "name": "stdout",
          "text": [
            "There are 2 directories and 0 images in 'cell_images'.\n",
            "There are 2 directories and 0 images in 'cell_images/test'.\n",
            "There are 0 directories and 1300 images in 'cell_images/test/parasitized'.\n",
            "There are 0 directories and 1300 images in 'cell_images/test/uninfected'.\n",
            "There are 2 directories and 0 images in 'cell_images/train'.\n",
            "There are 0 directories and 12480 images in 'cell_images/train/parasitized'.\n",
            "There are 0 directories and 12480 images in 'cell_images/train/uninfected'.\n"
          ]
        }
      ],
      "source": [
        "# Walk through cell_images directory and list number of files\n",
        "for dirpath, dirnames, filenames in os.walk(my_data_dir):\n",
        "  print(f\"There are {len(dirnames)} directories and {len(filenames)} images in '{dirpath}'.\")"
      ]
    },
    {
      "cell_type": "markdown",
      "metadata": {
        "id": "2docX2FutRHv"
      },
      "source": [
        "**Let's take an example images from both train-parasitized and train-uninfected folders to observe process** "
      ]
    },
    {
      "cell_type": "code",
      "execution_count": 20,
      "metadata": {
        "id": "wUZcZtQWsl9I",
        "colab": {
          "base_uri": "https://localhost:8080/"
        },
        "outputId": "a568f8bb-c8e0-406a-bed6-2948d05e83d3"
      },
      "outputs": [
        {
          "output_type": "execute_result",
          "data": {
            "text/plain": [
              "['C116P77ThinF_IMG_20150930_171844_cell_103.png',\n",
              " 'C68P29N_ThinF_IMG_20150819_133447_cell_144.png',\n",
              " 'C176P137NThinF_IMG_20151201_122444_cell_114.png',\n",
              " 'C91P52ThinF_IMG_20150821_123314_cell_192.png',\n",
              " 'C109P70ThinF_IMG_20150930_103645_cell_174.png',\n",
              " 'C180P141NThinF_IMG_20151201_165659_cell_24.png',\n",
              " 'C180P141NThinF_IMG_20151201_165453_cell_8.png',\n",
              " 'C89P50ThinF_IMG_20150820_162813_cell_209.png',\n",
              " 'C107P68ThinF_IMG_20150924_222535_cell_143.png',\n",
              " 'C116P77ThinF_IMG_20150930_172112_cell_96.png']"
            ]
          },
          "metadata": {},
          "execution_count": 20
        }
      ],
      "source": [
        "os.listdir(train_path+'parasitized')[:10]"
      ]
    },
    {
      "cell_type": "code",
      "execution_count": 21,
      "metadata": {
        "id": "90IdG6knsl9J",
        "colab": {
          "base_uri": "https://localhost:8080/",
          "height": 35
        },
        "outputId": "9eac4a4e-1863-4544-fdbb-6733c610b0ba"
      },
      "outputs": [
        {
          "output_type": "execute_result",
          "data": {
            "text/plain": [
              "'C180P141NThinF_IMG_20151201_165659_cell_24.png'"
            ],
            "application/vnd.google.colaboratory.intrinsic+json": {
              "type": "string"
            }
          },
          "metadata": {},
          "execution_count": 21
        }
      ],
      "source": [
        "os.listdir(train_path+'parasitized')[5]"
      ]
    },
    {
      "cell_type": "code",
      "execution_count": 22,
      "metadata": {
        "id": "rKvIiLAssl9J"
      },
      "outputs": [],
      "source": [
        "para_cell_path = train_path+'parasitized'+'/C68P29N_ThinF_IMG_20150819_134504_cell_120.png'"
      ]
    },
    {
      "cell_type": "code",
      "execution_count": 23,
      "metadata": {
        "id": "L5V2hllmsl9J",
        "colab": {
          "base_uri": "https://localhost:8080/",
          "height": 35
        },
        "outputId": "947a2c3c-9002-4bac-9bd7-491634e07e35"
      },
      "outputs": [
        {
          "output_type": "execute_result",
          "data": {
            "text/plain": [
              "'cell_images/train/parasitized/C68P29N_ThinF_IMG_20150819_134504_cell_120.png'"
            ],
            "application/vnd.google.colaboratory.intrinsic+json": {
              "type": "string"
            }
          },
          "metadata": {},
          "execution_count": 23
        }
      ],
      "source": [
        "para_cell_path"
      ]
    },
    {
      "cell_type": "code",
      "execution_count": 24,
      "metadata": {
        "id": "bgtb1aRfsl9K",
        "colab": {
          "base_uri": "https://localhost:8080/"
        },
        "outputId": "bbe61271-a7e8-4cbc-ff13-3c2aaa910eea"
      },
      "outputs": [
        {
          "output_type": "execute_result",
          "data": {
            "text/plain": [
              "array([[[0., 0., 0.],\n",
              "        [0., 0., 0.],\n",
              "        [0., 0., 0.],\n",
              "        ...,\n",
              "        [0., 0., 0.],\n",
              "        [0., 0., 0.],\n",
              "        [0., 0., 0.]],\n",
              "\n",
              "       [[0., 0., 0.],\n",
              "        [0., 0., 0.],\n",
              "        [0., 0., 0.],\n",
              "        ...,\n",
              "        [0., 0., 0.],\n",
              "        [0., 0., 0.],\n",
              "        [0., 0., 0.]],\n",
              "\n",
              "       [[0., 0., 0.],\n",
              "        [0., 0., 0.],\n",
              "        [0., 0., 0.],\n",
              "        ...,\n",
              "        [0., 0., 0.],\n",
              "        [0., 0., 0.],\n",
              "        [0., 0., 0.]],\n",
              "\n",
              "       ...,\n",
              "\n",
              "       [[0., 0., 0.],\n",
              "        [0., 0., 0.],\n",
              "        [0., 0., 0.],\n",
              "        ...,\n",
              "        [0., 0., 0.],\n",
              "        [0., 0., 0.],\n",
              "        [0., 0., 0.]],\n",
              "\n",
              "       [[0., 0., 0.],\n",
              "        [0., 0., 0.],\n",
              "        [0., 0., 0.],\n",
              "        ...,\n",
              "        [0., 0., 0.],\n",
              "        [0., 0., 0.],\n",
              "        [0., 0., 0.]],\n",
              "\n",
              "       [[0., 0., 0.],\n",
              "        [0., 0., 0.],\n",
              "        [0., 0., 0.],\n",
              "        ...,\n",
              "        [0., 0., 0.],\n",
              "        [0., 0., 0.],\n",
              "        [0., 0., 0.]]], dtype=float32)"
            ]
          },
          "metadata": {},
          "execution_count": 24
        }
      ],
      "source": [
        "imread(para_cell_path)"
      ]
    },
    {
      "cell_type": "code",
      "execution_count": 25,
      "metadata": {
        "id": "GsObRYqksl9K"
      },
      "outputs": [],
      "source": [
        "para_cell= imread(para_cell_path)"
      ]
    },
    {
      "cell_type": "code",
      "execution_count": 26,
      "metadata": {
        "id": "7E8cwW2osl9K",
        "colab": {
          "base_uri": "https://localhost:8080/",
          "height": 269
        },
        "outputId": "a1f868c7-89b0-49a4-fee1-e48abe2aad3d"
      },
      "outputs": [
        {
          "output_type": "display_data",
          "data": {
            "text/plain": [
              "<Figure size 432x288 with 1 Axes>"
            ],
            "image/png": "[encoded data removed]"
          },
          "metadata": {
            "needs_background": "light"
          }
        }
      ],
      "source": [
        "plt.imshow(para_cell);"
      ]
    },
    {
      "cell_type": "code",
      "execution_count": 27,
      "metadata": {
        "id": "XDpeTqBdsl9L",
        "colab": {
          "base_uri": "https://localhost:8080/"
        },
        "outputId": "622943bd-262c-4801-b28d-58576989e0c8"
      },
      "outputs": [
        {
          "output_type": "execute_result",
          "data": {
            "text/plain": [
              "(172, 154, 3)"
            ]
          },
          "metadata": {},
          "execution_count": 27
        }
      ],
      "source": [
        "para_cell.shape"
      ]
    },
    {
      "cell_type": "code",
      "execution_count": 28,
      "metadata": {
        "id": "pj1xYpfksl9M",
        "colab": {
          "base_uri": "https://localhost:8080/"
        },
        "outputId": "f35118bd-b17e-44d0-e1a4-47f7c6e1645f"
      },
      "outputs": [
        {
          "output_type": "execute_result",
          "data": {
            "text/plain": [
              "['C207ThinF_IMG_20151029_144152_cell_170.png',\n",
              " 'C149P110ThinF_IMG_20151115_114910_cell_7.png',\n",
              " 'C161P122ThinF_IMG_20151116_100959_cell_105.png',\n",
              " 'C42P5thin_original_IMG_20150623_134751_cell_35.png',\n",
              " 'C47P8thinOriginalOlympusCX21_IMG_20150717_173554_cell_58.png',\n",
              " 'C49P10thinF_IMG_20150724_102951_cell_2.png',\n",
              " 'C160P121ThinF_IMG_20151116_093109_cell_89.png',\n",
              " 'C228ThinF_IMG_20151112_142730_cell_188.png',\n",
              " 'C212ThinF_IMG_20151106_105437_cell_183.png',\n",
              " 'C12NThinF_IMG_20150614_125703_cell_37.png']"
            ]
          },
          "metadata": {},
          "execution_count": 28
        }
      ],
      "source": [
        "os.listdir(train_path+'uninfected')[:10]"
      ]
    },
    {
      "cell_type": "code",
      "execution_count": 29,
      "metadata": {
        "id": "scyqIWQmsl9M"
      },
      "outputs": [],
      "source": [
        "uninfected_cell_path = train_path+'uninfected/'+os.listdir(train_path+'uninfected')[5]"
      ]
    },
    {
      "cell_type": "code",
      "execution_count": 30,
      "metadata": {
        "id": "8sac1keAsl9M",
        "colab": {
          "base_uri": "https://localhost:8080/"
        },
        "outputId": "27057eb4-6496-46e1-cba5-17d109776998"
      },
      "outputs": [
        {
          "output_type": "execute_result",
          "data": {
            "text/plain": [
              "array([[[0., 0., 0.],\n",
              "        [0., 0., 0.],\n",
              "        [0., 0., 0.],\n",
              "        ...,\n",
              "        [0., 0., 0.],\n",
              "        [0., 0., 0.],\n",
              "        [0., 0., 0.]],\n",
              "\n",
              "       [[0., 0., 0.],\n",
              "        [0., 0., 0.],\n",
              "        [0., 0., 0.],\n",
              "        ...,\n",
              "        [0., 0., 0.],\n",
              "        [0., 0., 0.],\n",
              "        [0., 0., 0.]],\n",
              "\n",
              "       [[0., 0., 0.],\n",
              "        [0., 0., 0.],\n",
              "        [0., 0., 0.],\n",
              "        ...,\n",
              "        [0., 0., 0.],\n",
              "        [0., 0., 0.],\n",
              "        [0., 0., 0.]],\n",
              "\n",
              "       ...,\n",
              "\n",
              "       [[0., 0., 0.],\n",
              "        [0., 0., 0.],\n",
              "        [0., 0., 0.],\n",
              "        ...,\n",
              "        [0., 0., 0.],\n",
              "        [0., 0., 0.],\n",
              "        [0., 0., 0.]],\n",
              "\n",
              "       [[0., 0., 0.],\n",
              "        [0., 0., 0.],\n",
              "        [0., 0., 0.],\n",
              "        ...,\n",
              "        [0., 0., 0.],\n",
              "        [0., 0., 0.],\n",
              "        [0., 0., 0.]],\n",
              "\n",
              "       [[0., 0., 0.],\n",
              "        [0., 0., 0.],\n",
              "        [0., 0., 0.],\n",
              "        ...,\n",
              "        [0., 0., 0.],\n",
              "        [0., 0., 0.],\n",
              "        [0., 0., 0.]]], dtype=float32)"
            ]
          },
          "metadata": {},
          "execution_count": 30
        }
      ],
      "source": [
        "imread(uninfected_cell_path)"
      ]
    },
    {
      "cell_type": "code",
      "execution_count": 31,
      "metadata": {
        "id": "GYQ6VT4Esl9N",
        "colab": {
          "base_uri": "https://localhost:8080/",
          "height": 269
        },
        "outputId": "d15b85a2-8da4-4f2e-d39b-6e6c8a5315fa"
      },
      "outputs": [
        {
          "output_type": "display_data",
          "data": {
            "text/plain": [
              "<Figure size 432x288 with 1 Axes>"
            ],
            "image/png": "[encoded data removed]"
          },
          "metadata": {
            "needs_background": "light"
          }
        }
      ],
      "source": [
        "uninfected_cell = imread(uninfected_cell_path)\n",
        "plt.imshow(uninfected_cell);"
      ]
    },
    {
      "cell_type": "code",
      "execution_count": 32,
      "metadata": {
        "id": "GREBe_GIrZtp",
        "colab": {
          "base_uri": "https://localhost:8080/"
        },
        "outputId": "9e70df50-ba13-48b9-9704-b2ef72314988"
      },
      "outputs": [
        {
          "output_type": "execute_result",
          "data": {
            "text/plain": [
              "(130, 166, 3)"
            ]
          },
          "metadata": {},
          "execution_count": 32
        }
      ],
      "source": [
        "uninfected_cell.shape"
      ]
    },
    {
      "cell_type": "code",
      "execution_count": 33,
      "metadata": {
        "id": "E0jEJVskgsKG"
      },
      "outputs": [],
      "source": [
        "# View a random image\n",
        "import random\n",
        "\n",
        "def view_random_image(target_dir, target_class):\n",
        "  # Setup target directory (we'll view images from here)\n",
        "  target_folder = target_dir+target_class\n",
        "\n",
        "  # Get a random image path\n",
        "  random_image = random.sample(os.listdir(target_folder), 1)\n",
        "\n",
        "  # Read in the image and plot it using matplotlib\n",
        "  img = imread(target_folder + \"/\" + random_image[0])\n",
        "  plt.imshow(img)\n",
        "  plt.title(target_class)\n",
        "  plt.axis(\"off\");\n",
        "\n",
        "  print(f\"Image shape: {img.shape}\") # show the shape of the image\n",
        "\n",
        "  return img"
      ]
    },
    {
      "cell_type": "code",
      "execution_count": 35,
      "metadata": {
        "id": "khW2E0HmgsUe",
        "colab": {
          "base_uri": "https://localhost:8080/",
          "height": 281
        },
        "outputId": "fbe7d433-5bd2-4840-b0f8-dd3d3a76c566"
      },
      "outputs": [
        {
          "output_type": "stream",
          "name": "stdout",
          "text": [
            "Image shape: (112, 109, 3)\n"
          ]
        },
        {
          "output_type": "display_data",
          "data": {
            "text/plain": [
              "<Figure size 432x288 with 1 Axes>"
            ],
            "image/png": "[encoded data removed]"
          },
          "metadata": {
            "needs_background": "light"
          }
        }
      ],
      "source": [
        "# View a random image from the training dataset\n",
        "img = view_random_image(target_dir=train_path,\n",
        "                        target_class=\"parasitized\")"
      ]
    },
    {
      "cell_type": "code",
      "execution_count": 36,
      "metadata": {
        "id": "BcEpw1GPgseo",
        "colab": {
          "base_uri": "https://localhost:8080/",
          "height": 281
        },
        "outputId": "fcf5d509-73c4-45c4-e997-f8945abd631a"
      },
      "outputs": [
        {
          "output_type": "stream",
          "name": "stdout",
          "text": [
            "Image shape: (151, 133, 3)\n"
          ]
        },
        {
          "output_type": "display_data",
          "data": {
            "text/plain": [
              "<Figure size 432x288 with 1 Axes>"
            ],
            "image/png": "[encoded data removed]"
          },
          "metadata": {
            "needs_background": "light"
          }
        }
      ],
      "source": [
        "# View a random image from the training dataset\n",
        "img = view_random_image(target_dir=train_path,\n",
        "                        target_class=\"uninfected\")"
      ]
    },
    {
      "cell_type": "code",
      "execution_count": 38,
      "metadata": {
        "id": "KwuIL3FdAXlZ",
        "colab": {
          "base_uri": "https://localhost:8080/",
          "height": 281
        },
        "outputId": "b2afff13-479e-4d17-fb8a-b887970fea52"
      },
      "outputs": [
        {
          "output_type": "stream",
          "name": "stdout",
          "text": [
            "Image shape: (169, 115, 3)\n"
          ]
        },
        {
          "output_type": "display_data",
          "data": {
            "text/plain": [
              "<Figure size 432x288 with 1 Axes>"
            ],
            "image/png": "[encoded data removed]"
          },
          "metadata": {
            "needs_background": "light"
          }
        }
      ],
      "source": [
        "# View a random image from the training dataset\n",
        "import random\n",
        "img = view_random_image(target_dir=train_path,\n",
        "                        target_class=random.choice(class_names)) # get a random class name"
      ]
    },
    {
      "cell_type": "markdown",
      "metadata": {
        "id": "7qmejxHxsl9O"
      },
      "source": [
        "# Data Preprocessing"
      ]
    },
    {
      "cell_type": "markdown",
      "metadata": {
        "id": "LH--CKJ0sl9O"
      },
      "source": [
        "## Defining Input Shape"
      ]
    },
    {
      "cell_type": "markdown",
      "metadata": {
        "id": "FXz_fh0bsl9O"
      },
      "source": [
        "**Let's decide on the final dimension of these images.**"
      ]
    },
    {
      "cell_type": "code",
      "execution_count": 39,
      "metadata": {
        "id": "yedwAw8Jsl9P",
        "colab": {
          "base_uri": "https://localhost:8080/"
        },
        "outputId": "6ebae2be-0604-4562-e33b-d4c292c95068"
      },
      "outputs": [
        {
          "output_type": "execute_result",
          "data": {
            "text/plain": [
              "(130, 166, 3)"
            ]
          },
          "metadata": {},
          "execution_count": 39
        }
      ],
      "source": [
        "uninfected_cell.shape"
      ]
    },
    {
      "cell_type": "code",
      "execution_count": 42,
      "metadata": {
        "id": "zpfsabyPsl9P",
        "colab": {
          "base_uri": "https://localhost:8080/"
        },
        "outputId": "aec44e9a-d215-4520-cf95-97caac692da5"
      },
      "outputs": [
        {
          "output_type": "execute_result",
          "data": {
            "text/plain": [
              "(172, 154, 3)"
            ]
          },
          "metadata": {},
          "execution_count": 42
        }
      ],
      "source": [
        "para_cell.shape"
      ]
    },
    {
      "cell_type": "markdown",
      "metadata": {
        "cellView": "code",
        "id": "c1MICswflLpO",
        "outputId": "976efc35-690f-4c05-a758-e70d72df7d9e"
      },
      "source": [
        "x = []\n",
        "y = []\n",
        "\n",
        "for image in os.listdir(train_path+'uninfected'):\n",
        "    img = imread(train_path+'uninfected/'+image)\n",
        "    d1,d2,_ = img.shape\n",
        "    x.append(d1)\n",
        "    y.append(d2)"
      ]
    },
    {
      "cell_type": "code",
      "source": [
        ""
      ],
      "metadata": {
        "id": "3sBQbc5q4t5v"
      },
      "execution_count": 42,
      "outputs": []
    },
    {
      "cell_type": "code",
      "execution_count": 43,
      "metadata": {
        "id": "Cnndjp3hsl9Q",
        "colab": {
          "base_uri": "https://localhost:8080/",
          "height": 130
        },
        "outputId": "f5ca20ba-794d-4a90-eb8d-f2b35364c9eb"
      },
      "outputs": [
        {
          "output_type": "error",
          "ename": "SyntaxError",
          "evalue": "ignored",
          "traceback": [
            "\u001b[0;36m  File \u001b[0;32m\"<ipython-input-43-b2428626de80>\"\u001b[0;36m, line \u001b[0;32m2\u001b[0m\n\u001b[0;31m    y = [imread(train_path+'uninfected/'+image).shape[1] for image in os.listdir(train_path+'uninfected') #if 'Thumbs.db' not in image]\u001b[0m\n\u001b[0m    ^\u001b[0m\n\u001b[0;31mSyntaxError\u001b[0m\u001b[0;31m:\u001b[0m invalid syntax\n"
          ]
        }
      ],
      "source": [
        "x = [imread(train_path+'uninfected/'+image).shape[0] for image in os.listdir(train_path+'uninfected') #if 'Thumbs.db' not in image]\n",
        "y = [imread(train_path+'uninfected/'+image).shape[1] for image in os.listdir(train_path+'uninfected') #if 'Thumbs.db' not in image]"
      ]
    },
    {
      "cell_type": "code",
      "source": [
        "x = [imread(train_path+'uninfected/'+image).shape[0] for image in os.listdir(train_path+'uninfected') if 'Thumbs.db' not in image]\n",
        "y = [imread(train_path+'uninfected/'+image).shape[1] for image in os.listdir(train_path+'uninfected') if 'Thumbs.db' not in image]"
      ],
      "metadata": {
        "id": "SngRRX0ufraJ"
      },
      "execution_count": 44,
      "outputs": []
    },
    {
      "cell_type": "code",
      "execution_count": 45,
      "metadata": {
        "id": "I8coq5Crsl9R",
        "colab": {
          "base_uri": "https://localhost:8080/"
        },
        "outputId": "f97bd988-7b0b-42e0-f492-69628afee68b"
      },
      "outputs": [
        {
          "output_type": "execute_result",
          "data": {
            "text/plain": [
              "[103, 97, 118, 142, 142]"
            ]
          },
          "metadata": {},
          "execution_count": 45
        }
      ],
      "source": [
        "x[:5]"
      ]
    },
    {
      "cell_type": "code",
      "execution_count": 46,
      "metadata": {
        "id": "RZ1WZ16Osl9R",
        "colab": {
          "base_uri": "https://localhost:8080/",
          "height": 320
        },
        "outputId": "c1721539-44f7-4d3f-8b4a-42902d732b1d"
      },
      "outputs": [
        {
          "output_type": "stream",
          "name": "stderr",
          "text": [
            "/usr/local/lib/python3.7/dist-packages/seaborn/_decorators.py:43: FutureWarning: Pass the following variables as keyword args: x, y. From version 0.12, the only valid positional argument will be `data`, and passing other arguments without an explicit keyword will result in an error or misinterpretation.\n",
            "  FutureWarning\n"
          ]
        },
        {
          "output_type": "display_data",
          "data": {
            "text/plain": [
              "<Figure size 432x288 with 1 Axes>"
            ],
            "image/png": "[encoded data removed]"
          },
          "metadata": {
            "needs_background": "light"
          }
        }
      ],
      "source": [
        "sns.scatterplot(x,y);"
      ]
    },
    {
      "cell_type": "code",
      "execution_count": 47,
      "metadata": {
        "id": "CE2dIZyesl9R",
        "colab": {
          "base_uri": "https://localhost:8080/"
        },
        "outputId": "8ebbb92b-d9ac-4673-bc64-c936d261f365"
      },
      "outputs": [
        {
          "output_type": "execute_result",
          "data": {
            "text/plain": [
              "(131.64820899110507, 130.0)"
            ]
          },
          "metadata": {},
          "execution_count": 47
        }
      ],
      "source": [
        "np.mean(x), np.median(x)"
      ]
    },
    {
      "cell_type": "code",
      "execution_count": 48,
      "metadata": {
        "id": "j-hPSXm7sl9R",
        "colab": {
          "base_uri": "https://localhost:8080/"
        },
        "outputId": "e1d35ad6-ed9f-4d19-eb2e-e5ce1f9b02c5"
      },
      "outputs": [
        {
          "output_type": "execute_result",
          "data": {
            "text/plain": [
              "(131.4041990544114, 130.0)"
            ]
          },
          "metadata": {},
          "execution_count": 48
        }
      ],
      "source": [
        "np.mean(y), np.median(y)"
      ]
    },
    {
      "cell_type": "code",
      "execution_count": 49,
      "metadata": {
        "id": "XZipjtXssl9S"
      },
      "outputs": [],
      "source": [
        "image_shape = (130,130,3)"
      ]
    },
    {
      "cell_type": "markdown",
      "metadata": {
        "id": "nzfQWmOxsl9S"
      },
      "source": [
        "## Scalling"
      ]
    },
    {
      "cell_type": "markdown",
      "metadata": {
        "id": "mKfeQeWbsl9S"
      },
      "source": [
        "**Let's check the images if they are needed to be scaled or not**"
      ]
    },
    {
      "cell_type": "code",
      "execution_count": 50,
      "metadata": {
        "id": "Wh48Bd-1sl9S",
        "colab": {
          "base_uri": "https://localhost:8080/"
        },
        "outputId": "cf594560-c810-44ba-e04b-1184dc138356"
      },
      "outputs": [
        {
          "output_type": "execute_result",
          "data": {
            "text/plain": [
              "0.81960785"
            ]
          },
          "metadata": {},
          "execution_count": 50
        }
      ],
      "source": [
        "uninfected_cell.max()"
      ]
    },
    {
      "cell_type": "code",
      "execution_count": 51,
      "metadata": {
        "id": "X4lGP4Essl9S",
        "colab": {
          "base_uri": "https://localhost:8080/"
        },
        "outputId": "c08061ad-85ee-47ad-9497-bb0a12e46add"
      },
      "outputs": [
        {
          "output_type": "execute_result",
          "data": {
            "text/plain": [
              "0.9372549"
            ]
          },
          "metadata": {},
          "execution_count": 51
        }
      ],
      "source": [
        "para_cell.max()"
      ]
    },
    {
      "cell_type": "markdown",
      "metadata": {
        "id": "o-rpBt-ysl9S"
      },
      "source": [
        "As we see above, all images have been already scaled"
      ]
    },
    {
      "cell_type": "markdown",
      "metadata": {
        "id": "wwoyEQxasl9T"
      },
      "source": [
        "## Image Data Generator"
      ]
    },
    {
      "cell_type": "markdown",
      "metadata": {
        "id": "rMtI4ruOtZBS"
      },
      "source": [
        "**Image Manipulation**\n",
        "\n",
        "We can use the ImageDataGenerator to manipulate the images with rotation, resizing, and scaling so the model becomes more robust to different images that our data set doesn't have. ImageDataGenerator does the followings.\n",
        "\n",
        "* Accepts a batch of images used for training.\n",
        "* Applies a series of random transformations to each image in the batch.\n",
        "* Replaces the original batch with randomly transformed batch.\n",
        "* Training the CNN on this randomly transformed batch.\n",
        "\n",
        "The goal of applying data augmentation is to have a more generalized model.\n",
        "\n",
        "Data augmentation is a way to try and prevent a model overfitting. If your model is overfiting (e.g. the validation loss keeps increasing), you may want to try using data augmentation."
      ]
    },
    {
      "cell_type": "code",
      "execution_count": 52,
      "metadata": {
        "id": "PvfAR41Isl9T"
      },
      "outputs": [],
      "source": [
        "from tensorflow.keras.preprocessing.image import ImageDataGenerator"
      ]
    },
    {
      "cell_type": "code",
      "execution_count": null,
      "metadata": {
        "id": "-R0eYE5esl9T"
      },
      "outputs": [],
      "source": [
        "#help(ImageDataGenerator)"
      ]
    },
    {
      "cell_type": "code",
      "execution_count": 53,
      "metadata": {
        "id": "CG7aykrysl9T"
      },
      "outputs": [],
      "source": [
        "image_gen = ImageDataGenerator(rotation_range=15, \n",
        "                               width_shift_range=0.10, \n",
        "                               height_shift_range=0.10, \n",
        "                               #rescale=1/255, \n",
        "                               shear_range=0.1, \n",
        "                               zoom_range=0.1, \n",
        "                               horizontal_flip=True, \n",
        "                               fill_mode='nearest')"
      ]
    },
    {
      "cell_type": "code",
      "execution_count": 54,
      "metadata": {
        "id": "hYjJqytGsl9T",
        "colab": {
          "base_uri": "https://localhost:8080/",
          "height": 269
        },
        "outputId": "3ecac7a5-4506-4302-a6ef-cbb809f1f008"
      },
      "outputs": [
        {
          "output_type": "display_data",
          "data": {
            "text/plain": [
              "<Figure size 432x288 with 1 Axes>"
            ],
            "image/png": "[encoded data removed]"
          },
          "metadata": {
            "needs_background": "light"
          }
        }
      ],
      "source": [
        "plt.imshow(para_cell);"
      ]
    },
    {
      "cell_type": "code",
      "execution_count": 55,
      "metadata": {
        "id": "EkKJrYeFsl9T",
        "colab": {
          "base_uri": "https://localhost:8080/",
          "height": 269
        },
        "outputId": "0a1096b4-24ad-47bd-f7a7-daf9203ab969"
      },
      "outputs": [
        {
          "output_type": "display_data",
          "data": {
            "text/plain": [
              "<Figure size 432x288 with 1 Axes>"
            ],
            "image/png": "[encoded data removed]"
          },
          "metadata": {
            "needs_background": "light"
          }
        }
      ],
      "source": [
        "plt.imshow(image_gen.random_transform(para_cell));"
      ]
    },
    {
      "cell_type": "markdown",
      "metadata": {
        "id": "NXTR3CIv0qm1"
      },
      "source": [
        "### Taking the path to a directory & Generating batches of augmented data\n",
        "\n",
        "flow_from_directory function works with images organized in sub-directories. Your directories should include only one class of images, so one folder per class of images."
      ]
    },
    {
      "cell_type": "code",
      "execution_count": 56,
      "metadata": {
        "id": "7_KXVvrtsl9U"
      },
      "outputs": [],
      "source": [
        "#help(image_gen.flow_from_directory)\n",
        "#Takes the path to a directory & generates batches of augmented data."
      ]
    },
    {
      "cell_type": "code",
      "execution_count": 57,
      "metadata": {
        "id": "gg7R9FNEsl9U",
        "colab": {
          "base_uri": "https://localhost:8080/"
        },
        "outputId": "8a1ef34b-b255-49db-cb41-cccefd2de694"
      },
      "outputs": [
        {
          "output_type": "stream",
          "name": "stdout",
          "text": [
            "Found 24958 images belonging to 2 classes.\n"
          ]
        },
        {
          "output_type": "execute_result",
          "data": {
            "text/plain": [
              "<keras.preprocessing.image.DirectoryIterator at 0x7f927160bd90>"
            ]
          },
          "metadata": {},
          "execution_count": 57
        }
      ],
      "source": [
        "image_gen.flow_from_directory(train_path)"
      ]
    },
    {
      "cell_type": "code",
      "execution_count": 58,
      "metadata": {
        "id": "lDqfD0mUsl9U",
        "colab": {
          "base_uri": "https://localhost:8080/"
        },
        "outputId": "52c6e849-c105-491c-a800-d97214b13067"
      },
      "outputs": [
        {
          "output_type": "stream",
          "name": "stdout",
          "text": [
            "Found 2600 images belonging to 2 classes.\n"
          ]
        },
        {
          "output_type": "execute_result",
          "data": {
            "text/plain": [
              "<keras.preprocessing.image.DirectoryIterator at 0x7f927160bf90>"
            ]
          },
          "metadata": {},
          "execution_count": 58
        }
      ],
      "source": [
        "image_gen.flow_from_directory(test_path)"
      ]
    },
    {
      "cell_type": "code",
      "execution_count": 59,
      "metadata": {
        "id": "uh3j7j6_00ch"
      },
      "outputs": [],
      "source": [
        "batch_size = 32"
      ]
    },
    {
      "cell_type": "code",
      "execution_count": 60,
      "metadata": {
        "id": "gV4T5jcwsl9U",
        "colab": {
          "base_uri": "https://localhost:8080/"
        },
        "outputId": "ad6a0a23-8880-47e9-83b8-d448280c9c51"
      },
      "outputs": [
        {
          "output_type": "stream",
          "name": "stdout",
          "text": [
            "Found 24958 images belonging to 2 classes.\n"
          ]
        }
      ],
      "source": [
        "train_image_gen = image_gen.flow_from_directory(directory=train_path,\n",
        "                                                target_size=image_shape[:2],\n",
        "                                                color_mode='rgb',\n",
        "                                                batch_size=batch_size,\n",
        "                                                class_mode='binary',\n",
        "                                                shuffle=True)"
      ]
    },
    {
      "cell_type": "code",
      "execution_count": 61,
      "metadata": {
        "id": "KbbqrT2Asl9U",
        "colab": {
          "base_uri": "https://localhost:8080/"
        },
        "outputId": "4fcd9b7a-11e6-4f91-bb80-cfd3b6fbae00"
      },
      "outputs": [
        {
          "output_type": "stream",
          "name": "stdout",
          "text": [
            "Found 2600 images belonging to 2 classes.\n"
          ]
        }
      ],
      "source": [
        "test_image_gen = image_gen.flow_from_directory(directory=test_path,\n",
        "                                               target_size=image_shape[:2],\n",
        "                                               color_mode='rgb',\n",
        "                                               batch_size=batch_size,\n",
        "                                               class_mode='binary',\n",
        "                                               shuffle=False)"
      ]
    },
    {
      "cell_type": "code",
      "execution_count": 62,
      "metadata": {
        "id": "efxzYhpisl9V",
        "colab": {
          "base_uri": "https://localhost:8080/"
        },
        "outputId": "bf2c2f70-5029-4327-f6b5-d5c159efcd52"
      },
      "outputs": [
        {
          "output_type": "execute_result",
          "data": {
            "text/plain": [
              "{'parasitized': 0, 'uninfected': 1}"
            ]
          },
          "metadata": {},
          "execution_count": 62
        }
      ],
      "source": [
        "train_image_gen.class_indices"
      ]
    },
    {
      "cell_type": "code",
      "execution_count": 63,
      "metadata": {
        "id": "eE82-YIQUHtE",
        "colab": {
          "base_uri": "https://localhost:8080/"
        },
        "outputId": "3621f537-8ab1-49ed-b0c1-11289ceef0ec"
      },
      "outputs": [
        {
          "output_type": "execute_result",
          "data": {
            "text/plain": [
              "{'parasitized': 0, 'uninfected': 1}"
            ]
          },
          "metadata": {},
          "execution_count": 63
        }
      ],
      "source": [
        "test_image_gen.class_indices"
      ]
    },
    {
      "cell_type": "code",
      "execution_count": 64,
      "metadata": {
        "id": "B5r91T4hsl9V",
        "colab": {
          "base_uri": "https://localhost:8080/"
        },
        "outputId": "6622c1c7-17ff-4f5d-fd9d-0e6fd7324a94"
      },
      "outputs": [
        {
          "output_type": "execute_result",
          "data": {
            "text/plain": [
              "(array([[[[0., 0., 0.],\n",
              "          [0., 0., 0.],\n",
              "          [0., 0., 0.],\n",
              "          ...,\n",
              "          [0., 0., 0.],\n",
              "          [0., 0., 0.],\n",
              "          [0., 0., 0.]],\n",
              " \n",
              "         [[0., 0., 0.],\n",
              "          [0., 0., 0.],\n",
              "          [0., 0., 0.],\n",
              "          ...,\n",
              "          [0., 0., 0.],\n",
              "          [0., 0., 0.],\n",
              "          [0., 0., 0.]],\n",
              " \n",
              "         [[0., 0., 0.],\n",
              "          [0., 0., 0.],\n",
              "          [0., 0., 0.],\n",
              "          ...,\n",
              "          [0., 0., 0.],\n",
              "          [0., 0., 0.],\n",
              "          [0., 0., 0.]],\n",
              " \n",
              "         ...,\n",
              " \n",
              "         [[0., 0., 0.],\n",
              "          [0., 0., 0.],\n",
              "          [0., 0., 0.],\n",
              "          ...,\n",
              "          [0., 0., 0.],\n",
              "          [0., 0., 0.],\n",
              "          [0., 0., 0.]],\n",
              " \n",
              "         [[0., 0., 0.],\n",
              "          [0., 0., 0.],\n",
              "          [0., 0., 0.],\n",
              "          ...,\n",
              "          [0., 0., 0.],\n",
              "          [0., 0., 0.],\n",
              "          [0., 0., 0.]],\n",
              " \n",
              "         [[0., 0., 0.],\n",
              "          [0., 0., 0.],\n",
              "          [0., 0., 0.],\n",
              "          ...,\n",
              "          [0., 0., 0.],\n",
              "          [0., 0., 0.],\n",
              "          [0., 0., 0.]]],\n",
              " \n",
              " \n",
              "        [[[0., 0., 0.],\n",
              "          [0., 0., 0.],\n",
              "          [0., 0., 0.],\n",
              "          ...,\n",
              "          [0., 0., 0.],\n",
              "          [0., 0., 0.],\n",
              "          [0., 0., 0.]],\n",
              " \n",
              "         [[0., 0., 0.],\n",
              "          [0., 0., 0.],\n",
              "          [0., 0., 0.],\n",
              "          ...,\n",
              "          [0., 0., 0.],\n",
              "          [0., 0., 0.],\n",
              "          [0., 0., 0.]],\n",
              " \n",
              "         [[0., 0., 0.],\n",
              "          [0., 0., 0.],\n",
              "          [0., 0., 0.],\n",
              "          ...,\n",
              "          [0., 0., 0.],\n",
              "          [0., 0., 0.],\n",
              "          [0., 0., 0.]],\n",
              " \n",
              "         ...,\n",
              " \n",
              "         [[0., 0., 0.],\n",
              "          [0., 0., 0.],\n",
              "          [0., 0., 0.],\n",
              "          ...,\n",
              "          [0., 0., 0.],\n",
              "          [0., 0., 0.],\n",
              "          [0., 0., 0.]],\n",
              " \n",
              "         [[0., 0., 0.],\n",
              "          [0., 0., 0.],\n",
              "          [0., 0., 0.],\n",
              "          ...,\n",
              "          [0., 0., 0.],\n",
              "          [0., 0., 0.],\n",
              "          [0., 0., 0.]],\n",
              " \n",
              "         [[0., 0., 0.],\n",
              "          [0., 0., 0.],\n",
              "          [0., 0., 0.],\n",
              "          ...,\n",
              "          [0., 0., 0.],\n",
              "          [0., 0., 0.],\n",
              "          [0., 0., 0.]]],\n",
              " \n",
              " \n",
              "        [[[0., 0., 0.],\n",
              "          [0., 0., 0.],\n",
              "          [0., 0., 0.],\n",
              "          ...,\n",
              "          [0., 0., 0.],\n",
              "          [0., 0., 0.],\n",
              "          [0., 0., 0.]],\n",
              " \n",
              "         [[0., 0., 0.],\n",
              "          [0., 0., 0.],\n",
              "          [0., 0., 0.],\n",
              "          ...,\n",
              "          [0., 0., 0.],\n",
              "          [0., 0., 0.],\n",
              "          [0., 0., 0.]],\n",
              " \n",
              "         [[0., 0., 0.],\n",
              "          [0., 0., 0.],\n",
              "          [0., 0., 0.],\n",
              "          ...,\n",
              "          [0., 0., 0.],\n",
              "          [0., 0., 0.],\n",
              "          [0., 0., 0.]],\n",
              " \n",
              "         ...,\n",
              " \n",
              "         [[0., 0., 0.],\n",
              "          [0., 0., 0.],\n",
              "          [0., 0., 0.],\n",
              "          ...,\n",
              "          [0., 0., 0.],\n",
              "          [0., 0., 0.],\n",
              "          [0., 0., 0.]],\n",
              " \n",
              "         [[0., 0., 0.],\n",
              "          [0., 0., 0.],\n",
              "          [0., 0., 0.],\n",
              "          ...,\n",
              "          [0., 0., 0.],\n",
              "          [0., 0., 0.],\n",
              "          [0., 0., 0.]],\n",
              " \n",
              "         [[0., 0., 0.],\n",
              "          [0., 0., 0.],\n",
              "          [0., 0., 0.],\n",
              "          ...,\n",
              "          [0., 0., 0.],\n",
              "          [0., 0., 0.],\n",
              "          [0., 0., 0.]]],\n",
              " \n",
              " \n",
              "        ...,\n",
              " \n",
              " \n",
              "        [[[0., 0., 0.],\n",
              "          [0., 0., 0.],\n",
              "          [0., 0., 0.],\n",
              "          ...,\n",
              "          [0., 0., 0.],\n",
              "          [0., 0., 0.],\n",
              "          [0., 0., 0.]],\n",
              " \n",
              "         [[0., 0., 0.],\n",
              "          [0., 0., 0.],\n",
              "          [0., 0., 0.],\n",
              "          ...,\n",
              "          [0., 0., 0.],\n",
              "          [0., 0., 0.],\n",
              "          [0., 0., 0.]],\n",
              " \n",
              "         [[0., 0., 0.],\n",
              "          [0., 0., 0.],\n",
              "          [0., 0., 0.],\n",
              "          ...,\n",
              "          [0., 0., 0.],\n",
              "          [0., 0., 0.],\n",
              "          [0., 0., 0.]],\n",
              " \n",
              "         ...,\n",
              " \n",
              "         [[0., 0., 0.],\n",
              "          [0., 0., 0.],\n",
              "          [0., 0., 0.],\n",
              "          ...,\n",
              "          [0., 0., 0.],\n",
              "          [0., 0., 0.],\n",
              "          [0., 0., 0.]],\n",
              " \n",
              "         [[0., 0., 0.],\n",
              "          [0., 0., 0.],\n",
              "          [0., 0., 0.],\n",
              "          ...,\n",
              "          [0., 0., 0.],\n",
              "          [0., 0., 0.],\n",
              "          [0., 0., 0.]],\n",
              " \n",
              "         [[0., 0., 0.],\n",
              "          [0., 0., 0.],\n",
              "          [0., 0., 0.],\n",
              "          ...,\n",
              "          [0., 0., 0.],\n",
              "          [0., 0., 0.],\n",
              "          [0., 0., 0.]]],\n",
              " \n",
              " \n",
              "        [[[0., 0., 0.],\n",
              "          [0., 0., 0.],\n",
              "          [0., 0., 0.],\n",
              "          ...,\n",
              "          [0., 0., 0.],\n",
              "          [0., 0., 0.],\n",
              "          [0., 0., 0.]],\n",
              " \n",
              "         [[0., 0., 0.],\n",
              "          [0., 0., 0.],\n",
              "          [0., 0., 0.],\n",
              "          ...,\n",
              "          [0., 0., 0.],\n",
              "          [0., 0., 0.],\n",
              "          [0., 0., 0.]],\n",
              " \n",
              "         [[0., 0., 0.],\n",
              "          [0., 0., 0.],\n",
              "          [0., 0., 0.],\n",
              "          ...,\n",
              "          [0., 0., 0.],\n",
              "          [0., 0., 0.],\n",
              "          [0., 0., 0.]],\n",
              " \n",
              "         ...,\n",
              " \n",
              "         [[0., 0., 0.],\n",
              "          [0., 0., 0.],\n",
              "          [0., 0., 0.],\n",
              "          ...,\n",
              "          [0., 0., 0.],\n",
              "          [0., 0., 0.],\n",
              "          [0., 0., 0.]],\n",
              " \n",
              "         [[0., 0., 0.],\n",
              "          [0., 0., 0.],\n",
              "          [0., 0., 0.],\n",
              "          ...,\n",
              "          [0., 0., 0.],\n",
              "          [0., 0., 0.],\n",
              "          [0., 0., 0.]],\n",
              " \n",
              "         [[0., 0., 0.],\n",
              "          [0., 0., 0.],\n",
              "          [0., 0., 0.],\n",
              "          ...,\n",
              "          [0., 0., 0.],\n",
              "          [0., 0., 0.],\n",
              "          [0., 0., 0.]]],\n",
              " \n",
              " \n",
              "        [[[0., 0., 0.],\n",
              "          [0., 0., 0.],\n",
              "          [0., 0., 0.],\n",
              "          ...,\n",
              "          [0., 0., 0.],\n",
              "          [0., 0., 0.],\n",
              "          [0., 0., 0.]],\n",
              " \n",
              "         [[0., 0., 0.],\n",
              "          [0., 0., 0.],\n",
              "          [0., 0., 0.],\n",
              "          ...,\n",
              "          [0., 0., 0.],\n",
              "          [0., 0., 0.],\n",
              "          [0., 0., 0.]],\n",
              " \n",
              "         [[0., 0., 0.],\n",
              "          [0., 0., 0.],\n",
              "          [0., 0., 0.],\n",
              "          ...,\n",
              "          [0., 0., 0.],\n",
              "          [0., 0., 0.],\n",
              "          [0., 0., 0.]],\n",
              " \n",
              "         ...,\n",
              " \n",
              "         [[0., 0., 0.],\n",
              "          [0., 0., 0.],\n",
              "          [0., 0., 0.],\n",
              "          ...,\n",
              "          [0., 0., 0.],\n",
              "          [0., 0., 0.],\n",
              "          [0., 0., 0.]],\n",
              " \n",
              "         [[0., 0., 0.],\n",
              "          [0., 0., 0.],\n",
              "          [0., 0., 0.],\n",
              "          ...,\n",
              "          [0., 0., 0.],\n",
              "          [0., 0., 0.],\n",
              "          [0., 0., 0.]],\n",
              " \n",
              "         [[0., 0., 0.],\n",
              "          [0., 0., 0.],\n",
              "          [0., 0., 0.],\n",
              "          ...,\n",
              "          [0., 0., 0.],\n",
              "          [0., 0., 0.],\n",
              "          [0., 0., 0.]]]], dtype=float32),\n",
              " array([0., 0., 0., 1., 1., 1., 0., 0., 1., 0., 0., 1., 0., 0., 1., 1., 0.,\n",
              "        1., 1., 0., 1., 0., 0., 1., 1., 0., 1., 0., 0., 0., 0., 1.],\n",
              "       dtype=float32))"
            ]
          },
          "metadata": {},
          "execution_count": 64
        }
      ],
      "source": [
        "train_image_gen[0]"
      ]
    },
    {
      "cell_type": "code",
      "execution_count": 65,
      "metadata": {
        "id": "g_tNsaxlsl9V",
        "colab": {
          "base_uri": "https://localhost:8080/"
        },
        "outputId": "84d3a46c-5096-45a2-f69d-59c469577379"
      },
      "outputs": [
        {
          "output_type": "execute_result",
          "data": {
            "text/plain": [
              "(32, 130, 130, 3)"
            ]
          },
          "metadata": {},
          "execution_count": 65
        }
      ],
      "source": [
        "train_image_gen[0][0].shape"
      ]
    },
    {
      "cell_type": "code",
      "execution_count": 66,
      "metadata": {
        "id": "w08Vuz9y88iG",
        "colab": {
          "base_uri": "https://localhost:8080/"
        },
        "outputId": "142507db-27fa-4a8f-aa03-797af400a2b6"
      },
      "outputs": [
        {
          "output_type": "execute_result",
          "data": {
            "text/plain": [
              "(130, 130, 3)"
            ]
          },
          "metadata": {},
          "execution_count": 66
        }
      ],
      "source": [
        "train_image_gen[0][0][0].shape"
      ]
    },
    {
      "cell_type": "code",
      "execution_count": 67,
      "metadata": {
        "id": "kBX9wMYasl9V",
        "colab": {
          "base_uri": "https://localhost:8080/"
        },
        "outputId": "4ad7b052-0691-4293-c50a-069cd0b8ac02"
      },
      "outputs": [
        {
          "output_type": "execute_result",
          "data": {
            "text/plain": [
              "(780, 82)"
            ]
          },
          "metadata": {},
          "execution_count": 67
        }
      ],
      "source": [
        "len(train_image_gen), len(test_image_gen)"
      ]
    },
    {
      "cell_type": "code",
      "execution_count": 68,
      "metadata": {
        "id": "aS4Gj8PGsl9V",
        "colab": {
          "base_uri": "https://localhost:8080/"
        },
        "outputId": "5941f478-5d9e-4068-dac8-8df6186d8be7"
      },
      "outputs": [
        {
          "output_type": "execute_result",
          "data": {
            "text/plain": [
              "(24960, 2624)"
            ]
          },
          "metadata": {},
          "execution_count": 68
        }
      ],
      "source": [
        "len(train_image_gen)*batch_size, len(test_image_gen)*batch_size "
      ]
    },
    {
      "cell_type": "code",
      "execution_count": 69,
      "metadata": {
        "id": "ZkqN1GrZ8QSs",
        "colab": {
          "base_uri": "https://localhost:8080/"
        },
        "outputId": "84b6e004-33eb-4ce0-b5fc-d7cc523b879e"
      },
      "outputs": [
        {
          "output_type": "execute_result",
          "data": {
            "text/plain": [
              "(32, 32)"
            ]
          },
          "metadata": {},
          "execution_count": 69
        }
      ],
      "source": [
        "# Get a sample of the training data batch \n",
        "images, labels = train_image_gen.next() # get the 'next' batch of images/labels\n",
        "len(images), len(labels)"
      ]
    },
    {
      "cell_type": "code",
      "execution_count": 70,
      "metadata": {
        "id": "7UDSmH8F8aBH",
        "colab": {
          "base_uri": "https://localhost:8080/"
        },
        "outputId": "6893f045-3bff-4d1c-9f2a-8b8ce678f357"
      },
      "outputs": [
        {
          "output_type": "execute_result",
          "data": {
            "text/plain": [
              "(32, 32)"
            ]
          },
          "metadata": {},
          "execution_count": 70
        }
      ],
      "source": [
        "# Get a sample of the testing data batch \n",
        "images, labels = test_image_gen.next() # get the 'next' batch of images/labels\n",
        "len(images), len(labels)"
      ]
    },
    {
      "cell_type": "markdown",
      "metadata": {
        "id": "McnEpbpKsl9W"
      },
      "source": [
        "# Modelling-1"
      ]
    },
    {
      "cell_type": "code",
      "execution_count": 71,
      "metadata": {
        "id": "_4wdkY_Csl9W"
      },
      "outputs": [],
      "source": [
        "from tensorflow.keras.models import Sequential\n",
        "from tensorflow.keras.layers import Activation, Dropout, Flatten, Dense, Conv2D, MaxPooling2D\n",
        "from tensorflow.keras.callbacks import EarlyStopping"
      ]
    },
    {
      "cell_type": "code",
      "execution_count": 72,
      "metadata": {
        "id": "CQzvmjcEsl9W"
      },
      "outputs": [],
      "source": [
        "model1 = Sequential()\n",
        "\n",
        "model1.add(Conv2D(filters=32, kernel_size=(3,3), input_shape=image_shape, activation='relu'))\n",
        "model1.add(MaxPooling2D(pool_size=(2, 2)))\n",
        "\n",
        "model1.add(Conv2D(filters=64, kernel_size=(3,3), activation='relu'))\n",
        "model1.add(MaxPooling2D(pool_size=(2, 2)))\n",
        "\n",
        "model1.add(Conv2D(filters=64, kernel_size=(3,3), activation='relu'))\n",
        "model1.add(MaxPooling2D(pool_size=(2, 2)))\n",
        "\n",
        "\n",
        "model1.add(Flatten())\n",
        "\n",
        "\n",
        "model1.add(Dense(128))\n",
        "model1.add(Activation('relu'))\n",
        "\n",
        "model1.add(Dropout(0.5))\n",
        "\n",
        "model1.add(Dense(1))\n",
        "model1.add(Activation('sigmoid'))\n",
        "\n",
        "# optimizer = keras.optimizers.Adam(lr=0.01)\n",
        "model1.compile(loss='binary_crossentropy',\n",
        "              optimizer='adam',\n",
        "              metrics=['accuracy'])"
      ]
    },
    {
      "cell_type": "code",
      "execution_count": 73,
      "metadata": {
        "id": "MHI3EEvXsl9W",
        "colab": {
          "base_uri": "https://localhost:8080/"
        },
        "outputId": "425d656d-1c97-4afa-8e9b-43ca499cc71f"
      },
      "outputs": [
        {
          "output_type": "stream",
          "name": "stdout",
          "text": [
            "Model: \"sequential\"\n",
            "_________________________________________________________________\n",
            " Layer (type)                Output Shape              Param #   \n",
            "=================================================================\n",
            " conv2d (Conv2D)             (None, 128, 128, 32)      896       \n",
            "                                                                 \n",
            " max_pooling2d (MaxPooling2D  (None, 64, 64, 32)       0         \n",
            " )                                                               \n",
            "                                                                 \n",
            " conv2d_1 (Conv2D)           (None, 62, 62, 64)        18496     \n",
            "                                                                 \n",
            " max_pooling2d_1 (MaxPooling  (None, 31, 31, 64)       0         \n",
            " 2D)                                                             \n",
            "                                                                 \n",
            " conv2d_2 (Conv2D)           (None, 29, 29, 64)        36928     \n",
            "                                                                 \n",
            " max_pooling2d_2 (MaxPooling  (None, 14, 14, 64)       0         \n",
            " 2D)                                                             \n",
            "                                                                 \n",
            " flatten (Flatten)           (None, 12544)             0         \n",
            "                                                                 \n",
            " dense (Dense)               (None, 128)               1605760   \n",
            "                                                                 \n",
            " activation (Activation)     (None, 128)               0         \n",
            "                                                                 \n",
            " dropout (Dropout)           (None, 128)               0         \n",
            "                                                                 \n",
            " dense_1 (Dense)             (None, 1)                 129       \n",
            "                                                                 \n",
            " activation_1 (Activation)   (None, 1)                 0         \n",
            "                                                                 \n",
            "=================================================================\n",
            "Total params: 1,662,209\n",
            "Trainable params: 1,662,209\n",
            "Non-trainable params: 0\n",
            "_________________________________________________________________\n"
          ]
        }
      ],
      "source": [
        "model1.summary()"
      ]
    },
    {
      "cell_type": "code",
      "execution_count": 74,
      "metadata": {
        "id": "MQEe7W01sl9W"
      },
      "outputs": [],
      "source": [
        "early_stop = EarlyStopping(monitor='val_loss', patience=2, restore_best_weights = True)"
      ]
    },
    {
      "cell_type": "code",
      "execution_count": 75,
      "metadata": {
        "id": "ptJFzuyvsl9X",
        "scrolled": true,
        "colab": {
          "base_uri": "https://localhost:8080/"
        },
        "outputId": "26759bcd-a7b1-4730-ceaa-4c4e360edf01"
      },
      "outputs": [
        {
          "output_type": "stream",
          "name": "stdout",
          "text": [
            "Epoch 1/10\n",
            "780/780 [==============================] - 132s 155ms/step - loss: 0.8547 - accuracy: 0.5681 - val_loss: 0.6881 - val_accuracy: 0.5635\n",
            "Epoch 2/10\n",
            "780/780 [==============================] - 122s 157ms/step - loss: 0.6692 - accuracy: 0.5977 - val_loss: 0.6625 - val_accuracy: 0.6135\n",
            "Epoch 3/10\n",
            "780/780 [==============================] - 121s 155ms/step - loss: 0.4511 - accuracy: 0.7825 - val_loss: 0.2331 - val_accuracy: 0.9200\n",
            "Epoch 4/10\n",
            "780/780 [==============================] - 121s 154ms/step - loss: 0.2007 - accuracy: 0.9386 - val_loss: 0.1764 - val_accuracy: 0.9415\n",
            "Epoch 5/10\n",
            "780/780 [==============================] - 122s 156ms/step - loss: 0.1886 - accuracy: 0.9415 - val_loss: 0.1806 - val_accuracy: 0.9388\n",
            "Epoch 6/10\n",
            "780/780 [==============================] - 121s 155ms/step - loss: 0.1744 - accuracy: 0.9458 - val_loss: 0.1943 - val_accuracy: 0.9377\n"
          ]
        },
        {
          "output_type": "execute_result",
          "data": {
            "text/plain": [
              "<keras.callbacks.History at 0x7f9271166350>"
            ]
          },
          "metadata": {},
          "execution_count": 75
        }
      ],
      "source": [
        "model1.fit(train_image_gen,\n",
        "          epochs=10,\n",
        "          steps_per_epoch=len(train_image_gen),\n",
        "          validation_data=test_image_gen,\n",
        "          validation_steps=len(test_image_gen),\n",
        "          callbacks=[early_stop])"
      ]
    },
    {
      "cell_type": "code",
      "execution_count": 76,
      "metadata": {
        "id": "yUXSEkDLsl9X",
        "colab": {
          "base_uri": "https://localhost:8080/"
        },
        "outputId": "d6fd2e3e-6fa0-452f-cf17-eab53dd64ac0"
      },
      "outputs": [
        {
          "output_type": "execute_result",
          "data": {
            "text/plain": [
              "['loss', 'accuracy']"
            ]
          },
          "metadata": {},
          "execution_count": 76
        }
      ],
      "source": [
        "model1.metrics_names"
      ]
    },
    {
      "cell_type": "code",
      "execution_count": 77,
      "metadata": {
        "id": "AIykzWBQsl9X",
        "colab": {
          "base_uri": "https://localhost:8080/",
          "height": 206
        },
        "outputId": "9c37ccaf-116d-4212-f70b-1847427ca6bd"
      },
      "outputs": [
        {
          "output_type": "execute_result",
          "data": {
            "text/plain": [
              "   loss  accuracy  val_loss  val_accuracy\n",
              "0 0.855     0.568     0.688         0.563\n",
              "1 0.669     0.598     0.663         0.613\n",
              "2 0.451     0.782     0.233         0.920\n",
              "3 0.201     0.939     0.176         0.942\n",
              "4 0.189     0.941     0.181         0.939"
            ],
            "text/html": [
              "\n",
              "  <div id=\"df-9bcec55d-0de5-4688-9ae5-d6cdc7133dd9\">\n",
              "    <div class=\"colab-df-container\">\n",
              "      <div>\n",
              "<style scoped>\n",
              "    .dataframe tbody tr th:only-of-type {\n",
              "        vertical-align: middle;\n",
              "    }\n",
              "\n",
              "    .dataframe tbody tr th {\n",
              "        vertical-align: top;\n",
              "    }\n",
              "\n",
              "    .dataframe thead th {\n",
              "        text-align: right;\n",
              "    }\n",
              "</style>\n",
              "<table border=\"1\" class=\"dataframe\">\n",
              "  <thead>\n",
              "    <tr style=\"text-align: right;\">\n",
              "      <th></th>\n",
              "      <th>loss</th>\n",
              "      <th>accuracy</th>\n",
              "      <th>val_loss</th>\n",
              "      <th>val_accuracy</th>\n",
              "    </tr>\n",
              "  </thead>\n",
              "  <tbody>\n",
              "    <tr>\n",
              "      <th>0</th>\n",
              "      <td>0.855</td>\n",
              "      <td>0.568</td>\n",
              "      <td>0.688</td>\n",
              "      <td>0.563</td>\n",
              "    </tr>\n",
              "    <tr>\n",
              "      <th>1</th>\n",
              "      <td>0.669</td>\n",
              "      <td>0.598</td>\n",
              "      <td>0.663</td>\n",
              "      <td>0.613</td>\n",
              "    </tr>\n",
              "    <tr>\n",
              "      <th>2</th>\n",
              "      <td>0.451</td>\n",
              "      <td>0.782</td>\n",
              "      <td>0.233</td>\n",
              "      <td>0.920</td>\n",
              "    </tr>\n",
              "    <tr>\n",
              "      <th>3</th>\n",
              "      <td>0.201</td>\n",
              "      <td>0.939</td>\n",
              "      <td>0.176</td>\n",
              "      <td>0.942</td>\n",
              "    </tr>\n",
              "    <tr>\n",
              "      <th>4</th>\n",
              "      <td>0.189</td>\n",
              "      <td>0.941</td>\n",
              "      <td>0.181</td>\n",
              "      <td>0.939</td>\n",
              "    </tr>\n",
              "  </tbody>\n",
              "</table>\n",
              "</div>\n",
              "      <button class=\"colab-df-convert\" onclick=\"convertToInteractive('df-9bcec55d-0de5-4688-9ae5-d6cdc7133dd9')\"\n",
              "              title=\"Convert this dataframe to an interactive table.\"\n",
              "              style=\"display:none;\">\n",
              "        \n",
              "  <svg xmlns=\"http://www.w3.org/2000/svg\" height=\"24px\"viewBox=\"0 0 24 24\"\n",
              "       width=\"24px\">\n",
              "    <path d=\"M0 0h24v24H0V0z\" fill=\"none\"/>\n",
              "    <path d=\"M18.56 5.44l.94 2.06.94-2.06 2.06-.94-2.06-.94-.94-2.06-.94 2.06-2.06.94zm-11 1L8.5 8.5l.94-2.06 2.06-.94-2.06-.94L8.5 2.5l-.94 2.06-2.06.94zm10 10l.94 2.06.94-2.06 2.06-.94-2.06-.94-.94-2.06-.94 2.06-2.06.94z\"/><path d=\"M17.41 7.96l-1.37-1.37c-.4-.4-.92-.59-1.43-.59-.52 0-1.04.2-1.43.59L10.3 9.45l-7.72 7.72c-.78.78-.78 2.05 0 2.83L4 21.41c.39.39.9.59 1.41.59.51 0 1.02-.2 1.41-.59l7.78-7.78 2.81-2.81c.8-.78.8-2.07 0-2.86zM5.41 20L4 18.59l7.72-7.72 1.47 1.35L5.41 20z\"/>\n",
              "  </svg>\n",
              "      </button>\n",
              "      \n",
              "  <style>\n",
              "    .colab-df-container {\n",
              "      display:flex;\n",
              "      flex-wrap:wrap;\n",
              "      gap: 12px;\n",
              "    }\n",
              "\n",
              "    .colab-df-convert {\n",
              "      background-color: #E8F0FE;\n",
              "      border: none;\n",
              "      border-radius: 50%;\n",
              "      cursor: pointer;\n",
              "      display: none;\n",
              "      fill: #1967D2;\n",
              "      height: 32px;\n",
              "      padding: 0 0 0 0;\n",
              "      width: 32px;\n",
              "    }\n",
              "\n",
              "    .colab-df-convert:hover {\n",
              "      background-color: #E2EBFA;\n",
              "      box-shadow: 0px 1px 2px rgba(60, 64, 67, 0.3), 0px 1px 3px 1px rgba(60, 64, 67, 0.15);\n",
              "      fill: #174EA6;\n",
              "    }\n",
              "\n",
              "    [theme=dark] .colab-df-convert {\n",
              "      background-color: #3B4455;\n",
              "      fill: #D2E3FC;\n",
              "    }\n",
              "\n",
              "    [theme=dark] .colab-df-convert:hover {\n",
              "      background-color: #434B5C;\n",
              "      box-shadow: 0px 1px 3px 1px rgba(0, 0, 0, 0.15);\n",
              "      filter: drop-shadow(0px 1px 2px rgba(0, 0, 0, 0.3));\n",
              "      fill: #FFFFFF;\n",
              "    }\n",
              "  </style>\n",
              "\n",
              "      <script>\n",
              "        const buttonEl =\n",
              "          document.querySelector('#df-9bcec55d-0de5-4688-9ae5-d6cdc7133dd9 button.colab-df-convert');\n",
              "        buttonEl.style.display =\n",
              "          google.colab.kernel.accessAllowed ? 'block' : 'none';\n",
              "\n",
              "        async function convertToInteractive(key) {\n",
              "          const element = document.querySelector('#df-9bcec55d-0de5-4688-9ae5-d6cdc7133dd9');\n",
              "          const dataTable =\n",
              "            await google.colab.kernel.invokeFunction('convertToInteractive',\n",
              "                                                     [key], {});\n",
              "          if (!dataTable) return;\n",
              "\n",
              "          const docLinkHtml = 'Like what you see? Visit the ' +\n",
              "            '<a target=\"_blank\" href=https://colab.research.google.com/notebooks/data_table.ipynb>data table notebook</a>'\n",
              "            + ' to learn more about interactive tables.';\n",
              "          element.innerHTML = '';\n",
              "          dataTable['output_type'] = 'display_data';\n",
              "          await google.colab.output.renderOutput(dataTable, element);\n",
              "          const docLink = document.createElement('div');\n",
              "          docLink.innerHTML = docLinkHtml;\n",
              "          element.appendChild(docLink);\n",
              "        }\n",
              "      </script>\n",
              "    </div>\n",
              "  </div>\n",
              "  "
            ]
          },
          "metadata": {},
          "execution_count": 77
        }
      ],
      "source": [
        "summary = pd.DataFrame(model1.history.history)\n",
        "summary.head()"
      ]
    },
    {
      "cell_type": "code",
      "execution_count": 78,
      "metadata": {
        "id": "Dcy3L5Whsl9X",
        "colab": {
          "base_uri": "https://localhost:8080/",
          "height": 265
        },
        "outputId": "295733e2-4519-4bec-bd7a-3fa2eb1383e5"
      },
      "outputs": [
        {
          "output_type": "display_data",
          "data": {
            "text/plain": [
              "<Figure size 432x288 with 1 Axes>"
            ],
            "image/png": "[encoded data removed]"
          },
          "metadata": {
            "needs_background": "light"
          }
        }
      ],
      "source": [
        "summary[[\"loss\", \"val_loss\"]].plot();"
      ]
    },
    {
      "cell_type": "code",
      "execution_count": 79,
      "metadata": {
        "id": "azs1F4o7sl9X",
        "colab": {
          "base_uri": "https://localhost:8080/",
          "height": 265
        },
        "outputId": "59840f9d-fc7e-4517-947a-236121bb9651"
      },
      "outputs": [
        {
          "output_type": "display_data",
          "data": {
            "text/plain": [
              "<Figure size 432x288 with 1 Axes>"
            ],
            "image/png": "[encoded data removed]"
          },
          "metadata": {
            "needs_background": "light"
          }
        }
      ],
      "source": [
        "summary[[\"accuracy\", \"val_accuracy\"]].plot();"
      ]
    },
    {
      "cell_type": "markdown",
      "metadata": {
        "id": "16_yfUk5sl9Y"
      },
      "source": [
        "# Evaluation on Test Data"
      ]
    },
    {
      "cell_type": "code",
      "execution_count": 80,
      "metadata": {
        "id": "Xz95GVTDsl9Y"
      },
      "outputs": [],
      "source": [
        "from sklearn.metrics import classification_report, confusion_matrix"
      ]
    },
    {
      "cell_type": "code",
      "execution_count": 81,
      "metadata": {
        "id": "mSBs8sNAsl9Y",
        "colab": {
          "base_uri": "https://localhost:8080/"
        },
        "outputId": "fb8b9f67-166a-44d0-f67e-25d1e78458bf"
      },
      "outputs": [
        {
          "output_type": "stream",
          "name": "stdout",
          "text": [
            "82/82 [==============================] - 11s 138ms/step - loss: 0.1706 - accuracy: 0.9431\n",
            "Test loss: 0.1705923229455948\n",
            "Test accuracy: 0.9430769085884094\n"
          ]
        }
      ],
      "source": [
        "score = model1.evaluate(test_image_gen)\n",
        "print('Test loss:', score[0])\n",
        "print('Test accuracy:', score[1])"
      ]
    },
    {
      "cell_type": "code",
      "execution_count": 82,
      "metadata": {
        "id": "ZtAfDORssl9Y"
      },
      "outputs": [],
      "source": [
        "pred_prob = model1.predict(test_image_gen)"
      ]
    },
    {
      "cell_type": "code",
      "execution_count": 83,
      "metadata": {
        "id": "5PfBiFPlsl9Y",
        "colab": {
          "base_uri": "https://localhost:8080/"
        },
        "outputId": "d36bae25-fa2c-49dd-9f33-921893fbafed"
      },
      "outputs": [
        {
          "output_type": "execute_result",
          "data": {
            "text/plain": [
              "array([[3.1916031e-03],\n",
              "       [6.7584269e-06],\n",
              "       [9.4708128e-05],\n",
              "       ...,\n",
              "       [9.8856699e-01],\n",
              "       [9.8392534e-01],\n",
              "       [9.7353470e-01]], dtype=float32)"
            ]
          },
          "metadata": {},
          "execution_count": 83
        }
      ],
      "source": [
        "pred_prob"
      ]
    },
    {
      "cell_type": "code",
      "execution_count": 84,
      "metadata": {
        "id": "qwF2D32fsl9Z"
      },
      "outputs": [],
      "source": [
        "y_pred = pred_prob > 0.5"
      ]
    },
    {
      "cell_type": "code",
      "execution_count": 85,
      "metadata": {
        "id": "EP0FHhTSsl9Z",
        "colab": {
          "base_uri": "https://localhost:8080/"
        },
        "outputId": "9727f3cf-3ea2-4090-b935-955a2b7c6ed9"
      },
      "outputs": [
        {
          "output_type": "execute_result",
          "data": {
            "text/plain": [
              "array([[False],\n",
              "       [False],\n",
              "       [False],\n",
              "       ...,\n",
              "       [ True],\n",
              "       [ True],\n",
              "       [ True]])"
            ]
          },
          "metadata": {},
          "execution_count": 85
        }
      ],
      "source": [
        "y_pred"
      ]
    },
    {
      "cell_type": "code",
      "execution_count": 86,
      "metadata": {
        "id": "BfPUSYHxsl9a",
        "colab": {
          "base_uri": "https://localhost:8080/"
        },
        "outputId": "ad1f8d8b-f7fd-4ca6-a4eb-15af90afcccf"
      },
      "outputs": [
        {
          "output_type": "execute_result",
          "data": {
            "text/plain": [
              "array([0, 0, 0, ..., 1, 1, 1], dtype=int32)"
            ]
          },
          "metadata": {},
          "execution_count": 86
        }
      ],
      "source": [
        "y_test = test_image_gen.classes\n",
        "y_test"
      ]
    },
    {
      "cell_type": "code",
      "execution_count": 87,
      "metadata": {
        "id": "DWwI79g1sl9a",
        "colab": {
          "base_uri": "https://localhost:8080/"
        },
        "outputId": "880a3b18-23d7-4d3c-a14f-0197c86d45e2"
      },
      "outputs": [
        {
          "output_type": "stream",
          "name": "stdout",
          "text": [
            "              precision    recall  f1-score   support\n",
            "\n",
            "           0       0.96      0.92      0.94      1300\n",
            "           1       0.93      0.96      0.94      1300\n",
            "\n",
            "    accuracy                           0.94      2600\n",
            "   macro avg       0.94      0.94      0.94      2600\n",
            "weighted avg       0.94      0.94      0.94      2600\n",
            "\n"
          ]
        }
      ],
      "source": [
        "print(classification_report(y_test, y_pred))"
      ]
    },
    {
      "cell_type": "code",
      "execution_count": 88,
      "metadata": {
        "id": "KlUFu_UHsl9b",
        "scrolled": true,
        "colab": {
          "base_uri": "https://localhost:8080/"
        },
        "outputId": "3406b7ff-07f5-41e1-e729-1bf14f37cee2"
      },
      "outputs": [
        {
          "output_type": "execute_result",
          "data": {
            "text/plain": [
              "array([[1201,   99],\n",
              "       [  51, 1249]])"
            ]
          },
          "metadata": {},
          "execution_count": 88
        }
      ],
      "source": [
        "confusion_matrix(y_test, y_pred)"
      ]
    },
    {
      "cell_type": "markdown",
      "metadata": {
        "id": "lPIenRrysl9b"
      },
      "source": [
        "# Modelling-2"
      ]
    },
    {
      "cell_type": "code",
      "execution_count": 89,
      "metadata": {
        "id": "6Dnzknlxsl9b"
      },
      "outputs": [],
      "source": [
        "model2 = Sequential()\n",
        "\n",
        "model2.add(Conv2D(filters=64, kernel_size=(3,3),input_shape=image_shape, padding='same', activation='relu',))\n",
        "model2.add(MaxPooling2D(pool_size=(2, 2)))\n",
        "\n",
        "model2.add(Conv2D(filters=128, kernel_size=(3,3), padding='same', activation='relu'))\n",
        "model2.add(Conv2D(filters=128, kernel_size=(3,3), padding='same', activation='relu'))\n",
        "model2.add(MaxPooling2D(pool_size=(2, 2)))\n",
        "\n",
        "model2.add(Conv2D(filters=256, kernel_size=(3,3), padding='same', activation='relu'))\n",
        "model2.add(Conv2D(filters=256, kernel_size=(3,3), padding='same', activation='relu'))\n",
        "model2.add(Conv2D(filters=256, kernel_size=(3,3), padding='same', activation='relu'))\n",
        "model2.add(MaxPooling2D(pool_size=(2, 2)))\n",
        "\n",
        "model2.add(Conv2D(filters=128, kernel_size=(3,3), padding='same', activation='relu'))\n",
        "model2.add(MaxPooling2D(pool_size=(2, 2)))\n",
        "\n",
        "model2.add(Conv2D(filters=64, kernel_size=(3,3), padding='same', activation='relu'))\n",
        "model2.add(MaxPooling2D(pool_size=(2, 2)))\n",
        "\n",
        "\n",
        "model2.add(Flatten())\n",
        "\n",
        "\n",
        "model2.add(Dense(128))\n",
        "model2.add(Activation('relu'))\n",
        "model2.add(Dropout(0.5))\n",
        "\n",
        "model2.add(Dense(1))\n",
        "model2.add(Activation('sigmoid'))\n",
        "\n",
        "model2.compile(loss='binary_crossentropy',\n",
        "              optimizer='adam',\n",
        "              metrics=['accuracy'])"
      ]
    },
    {
      "cell_type": "code",
      "execution_count": 90,
      "metadata": {
        "id": "waeAEJGSsl9c",
        "colab": {
          "base_uri": "https://localhost:8080/"
        },
        "outputId": "5432ef17-9f30-4fd5-af80-840c47e18618"
      },
      "outputs": [
        {
          "output_type": "stream",
          "name": "stdout",
          "text": [
            "Model: \"sequential_1\"\n",
            "_________________________________________________________________\n",
            " Layer (type)                Output Shape              Param #   \n",
            "=================================================================\n",
            " conv2d_3 (Conv2D)           (None, 130, 130, 64)      1792      \n",
            "                                                                 \n",
            " max_pooling2d_3 (MaxPooling  (None, 65, 65, 64)       0         \n",
            " 2D)                                                             \n",
            "                                                                 \n",
            " conv2d_4 (Conv2D)           (None, 65, 65, 128)       73856     \n",
            "                                                                 \n",
            " conv2d_5 (Conv2D)           (None, 65, 65, 128)       147584    \n",
            "                                                                 \n",
            " max_pooling2d_4 (MaxPooling  (None, 32, 32, 128)      0         \n",
            " 2D)                                                             \n",
            "                                                                 \n",
            " conv2d_6 (Conv2D)           (None, 32, 32, 256)       295168    \n",
            "                                                                 \n",
            " conv2d_7 (Conv2D)           (None, 32, 32, 256)       590080    \n",
            "                                                                 \n",
            " conv2d_8 (Conv2D)           (None, 32, 32, 256)       590080    \n",
            "                                                                 \n",
            " max_pooling2d_5 (MaxPooling  (None, 16, 16, 256)      0         \n",
            " 2D)                                                             \n",
            "                                                                 \n",
            " conv2d_9 (Conv2D)           (None, 16, 16, 128)       295040    \n",
            "                                                                 \n",
            " max_pooling2d_6 (MaxPooling  (None, 8, 8, 128)        0         \n",
            " 2D)                                                             \n",
            "                                                                 \n",
            " conv2d_10 (Conv2D)          (None, 8, 8, 64)          73792     \n",
            "                                                                 \n",
            " max_pooling2d_7 (MaxPooling  (None, 4, 4, 64)         0         \n",
            " 2D)                                                             \n",
            "                                                                 \n",
            " flatten_1 (Flatten)         (None, 1024)              0         \n",
            "                                                                 \n",
            " dense_2 (Dense)             (None, 128)               131200    \n",
            "                                                                 \n",
            " activation_2 (Activation)   (None, 128)               0         \n",
            "                                                                 \n",
            " dropout_1 (Dropout)         (None, 128)               0         \n",
            "                                                                 \n",
            " dense_3 (Dense)             (None, 1)                 129       \n",
            "                                                                 \n",
            " activation_3 (Activation)   (None, 1)                 0         \n",
            "                                                                 \n",
            "=================================================================\n",
            "Total params: 2,198,721\n",
            "Trainable params: 2,198,721\n",
            "Non-trainable params: 0\n",
            "_________________________________________________________________\n"
          ]
        }
      ],
      "source": [
        "model2.summary()"
      ]
    },
    {
      "cell_type": "code",
      "execution_count": 91,
      "metadata": {
        "id": "tLSLjgiPsl9c"
      },
      "outputs": [],
      "source": [
        "early_stop = EarlyStopping(monitor='val_loss', patience=3, restore_best_weights = True)"
      ]
    },
    {
      "cell_type": "code",
      "execution_count": 92,
      "metadata": {
        "id": "mVbSg-qLsl9c",
        "scrolled": true,
        "colab": {
          "base_uri": "https://localhost:8080/"
        },
        "outputId": "1813c92e-69a4-4ecf-93bc-91490261aab8"
      },
      "outputs": [
        {
          "output_type": "stream",
          "name": "stdout",
          "text": [
            "Epoch 1/8\n",
            "780/780 [==============================] - 149s 187ms/step - loss: 0.7109 - accuracy: 0.5230 - val_loss: 0.6925 - val_accuracy: 0.5004\n",
            "Epoch 2/8\n",
            "780/780 [==============================] - 144s 184ms/step - loss: 0.6786 - accuracy: 0.5548 - val_loss: 0.6889 - val_accuracy: 0.5285\n",
            "Epoch 3/8\n",
            "780/780 [==============================] - 142s 182ms/step - loss: 0.6911 - accuracy: 0.5264 - val_loss: 0.6844 - val_accuracy: 0.5415\n",
            "Epoch 4/8\n",
            "780/780 [==============================] - 142s 182ms/step - loss: 0.5338 - accuracy: 0.6888 - val_loss: 0.2242 - val_accuracy: 0.9335\n",
            "Epoch 5/8\n",
            "780/780 [==============================] - 140s 179ms/step - loss: 0.1845 - accuracy: 0.9445 - val_loss: 0.1976 - val_accuracy: 0.9400\n",
            "Epoch 6/8\n",
            "780/780 [==============================] - 141s 180ms/step - loss: 0.1683 - accuracy: 0.9486 - val_loss: 0.1688 - val_accuracy: 0.9442\n",
            "Epoch 7/8\n",
            "780/780 [==============================] - 139s 179ms/step - loss: 0.1578 - accuracy: 0.9516 - val_loss: 0.1582 - val_accuracy: 0.9481\n",
            "Epoch 8/8\n",
            "780/780 [==============================] - 140s 180ms/step - loss: 0.1620 - accuracy: 0.9509 - val_loss: 0.1441 - val_accuracy: 0.9500\n"
          ]
        },
        {
          "output_type": "execute_result",
          "data": {
            "text/plain": [
              "<keras.callbacks.History at 0x7f91fa44e250>"
            ]
          },
          "metadata": {},
          "execution_count": 92
        }
      ],
      "source": [
        "model2.fit(train_image_gen,\n",
        "          epochs=8,\n",
        "          steps_per_epoch=len(train_image_gen),\n",
        "          validation_data=test_image_gen,\n",
        "          validation_steps=len(test_image_gen),\n",
        "          callbacks=[early_stop])"
      ]
    },
    {
      "cell_type": "code",
      "execution_count": 93,
      "metadata": {
        "id": "CiIRPi0qsl9c",
        "colab": {
          "base_uri": "https://localhost:8080/"
        },
        "outputId": "6ea5326f-dae7-4089-ddd7-89cdbee28e10"
      },
      "outputs": [
        {
          "output_type": "execute_result",
          "data": {
            "text/plain": [
              "['loss', 'accuracy']"
            ]
          },
          "metadata": {},
          "execution_count": 93
        }
      ],
      "source": [
        "model2.metrics_names"
      ]
    },
    {
      "cell_type": "code",
      "execution_count": 94,
      "metadata": {
        "id": "28IfaCRpsl9d",
        "colab": {
          "base_uri": "https://localhost:8080/",
          "height": 206
        },
        "outputId": "4832ba52-2327-4b38-ab5d-1ac9ce998df8"
      },
      "outputs": [
        {
          "output_type": "execute_result",
          "data": {
            "text/plain": [
              "   loss  accuracy  val_loss  val_accuracy\n",
              "0 0.711     0.523     0.693         0.500\n",
              "1 0.679     0.555     0.689         0.528\n",
              "2 0.691     0.526     0.684         0.542\n",
              "3 0.534     0.689     0.224         0.933\n",
              "4 0.185     0.945     0.198         0.940"
            ],
            "text/html": [
              "\n",
              "  <div id=\"df-0677b3ea-3992-4db4-a0db-3a25e01228c1\">\n",
              "    <div class=\"colab-df-container\">\n",
              "      <div>\n",
              "<style scoped>\n",
              "    .dataframe tbody tr th:only-of-type {\n",
              "        vertical-align: middle;\n",
              "    }\n",
              "\n",
              "    .dataframe tbody tr th {\n",
              "        vertical-align: top;\n",
              "    }\n",
              "\n",
              "    .dataframe thead th {\n",
              "        text-align: right;\n",
              "    }\n",
              "</style>\n",
              "<table border=\"1\" class=\"dataframe\">\n",
              "  <thead>\n",
              "    <tr style=\"text-align: right;\">\n",
              "      <th></th>\n",
              "      <th>loss</th>\n",
              "      <th>accuracy</th>\n",
              "      <th>val_loss</th>\n",
              "      <th>val_accuracy</th>\n",
              "    </tr>\n",
              "  </thead>\n",
              "  <tbody>\n",
              "    <tr>\n",
              "      <th>0</th>\n",
              "      <td>0.711</td>\n",
              "      <td>0.523</td>\n",
              "      <td>0.693</td>\n",
              "      <td>0.500</td>\n",
              "    </tr>\n",
              "    <tr>\n",
              "      <th>1</th>\n",
              "      <td>0.679</td>\n",
              "      <td>0.555</td>\n",
              "      <td>0.689</td>\n",
              "      <td>0.528</td>\n",
              "    </tr>\n",
              "    <tr>\n",
              "      <th>2</th>\n",
              "      <td>0.691</td>\n",
              "      <td>0.526</td>\n",
              "      <td>0.684</td>\n",
              "      <td>0.542</td>\n",
              "    </tr>\n",
              "    <tr>\n",
              "      <th>3</th>\n",
              "      <td>0.534</td>\n",
              "      <td>0.689</td>\n",
              "      <td>0.224</td>\n",
              "      <td>0.933</td>\n",
              "    </tr>\n",
              "    <tr>\n",
              "      <th>4</th>\n",
              "      <td>0.185</td>\n",
              "      <td>0.945</td>\n",
              "      <td>0.198</td>\n",
              "      <td>0.940</td>\n",
              "    </tr>\n",
              "  </tbody>\n",
              "</table>\n",
              "</div>\n",
              "      <button class=\"colab-df-convert\" onclick=\"convertToInteractive('df-0677b3ea-3992-4db4-a0db-3a25e01228c1')\"\n",
              "              title=\"Convert this dataframe to an interactive table.\"\n",
              "              style=\"display:none;\">\n",
              "        \n",
              "  <svg xmlns=\"http://www.w3.org/2000/svg\" height=\"24px\"viewBox=\"0 0 24 24\"\n",
              "       width=\"24px\">\n",
              "    <path d=\"M0 0h24v24H0V0z\" fill=\"none\"/>\n",
              "    <path d=\"M18.56 5.44l.94 2.06.94-2.06 2.06-.94-2.06-.94-.94-2.06-.94 2.06-2.06.94zm-11 1L8.5 8.5l.94-2.06 2.06-.94-2.06-.94L8.5 2.5l-.94 2.06-2.06.94zm10 10l.94 2.06.94-2.06 2.06-.94-2.06-.94-.94-2.06-.94 2.06-2.06.94z\"/><path d=\"M17.41 7.96l-1.37-1.37c-.4-.4-.92-.59-1.43-.59-.52 0-1.04.2-1.43.59L10.3 9.45l-7.72 7.72c-.78.78-.78 2.05 0 2.83L4 21.41c.39.39.9.59 1.41.59.51 0 1.02-.2 1.41-.59l7.78-7.78 2.81-2.81c.8-.78.8-2.07 0-2.86zM5.41 20L4 18.59l7.72-7.72 1.47 1.35L5.41 20z\"/>\n",
              "  </svg>\n",
              "      </button>\n",
              "      \n",
              "  <style>\n",
              "    .colab-df-container {\n",
              "      display:flex;\n",
              "      flex-wrap:wrap;\n",
              "      gap: 12px;\n",
              "    }\n",
              "\n",
              "    .colab-df-convert {\n",
              "      background-color: #E8F0FE;\n",
              "      border: none;\n",
              "      border-radius: 50%;\n",
              "      cursor: pointer;\n",
              "      display: none;\n",
              "      fill: #1967D2;\n",
              "      height: 32px;\n",
              "      padding: 0 0 0 0;\n",
              "      width: 32px;\n",
              "    }\n",
              "\n",
              "    .colab-df-convert:hover {\n",
              "      background-color: #E2EBFA;\n",
              "      box-shadow: 0px 1px 2px rgba(60, 64, 67, 0.3), 0px 1px 3px 1px rgba(60, 64, 67, 0.15);\n",
              "      fill: #174EA6;\n",
              "    }\n",
              "\n",
              "    [theme=dark] .colab-df-convert {\n",
              "      background-color: #3B4455;\n",
              "      fill: #D2E3FC;\n",
              "    }\n",
              "\n",
              "    [theme=dark] .colab-df-convert:hover {\n",
              "      background-color: #434B5C;\n",
              "      box-shadow: 0px 1px 3px 1px rgba(0, 0, 0, 0.15);\n",
              "      filter: drop-shadow(0px 1px 2px rgba(0, 0, 0, 0.3));\n",
              "      fill: #FFFFFF;\n",
              "    }\n",
              "  </style>\n",
              "\n",
              "      <script>\n",
              "        const buttonEl =\n",
              "          document.querySelector('#df-0677b3ea-3992-4db4-a0db-3a25e01228c1 button.colab-df-convert');\n",
              "        buttonEl.style.display =\n",
              "          google.colab.kernel.accessAllowed ? 'block' : 'none';\n",
              "\n",
              "        async function convertToInteractive(key) {\n",
              "          const element = document.querySelector('#df-0677b3ea-3992-4db4-a0db-3a25e01228c1');\n",
              "          const dataTable =\n",
              "            await google.colab.kernel.invokeFunction('convertToInteractive',\n",
              "                                                     [key], {});\n",
              "          if (!dataTable) return;\n",
              "\n",
              "          const docLinkHtml = 'Like what you see? Visit the ' +\n",
              "            '<a target=\"_blank\" href=https://colab.research.google.com/notebooks/data_table.ipynb>data table notebook</a>'\n",
              "            + ' to learn more about interactive tables.';\n",
              "          element.innerHTML = '';\n",
              "          dataTable['output_type'] = 'display_data';\n",
              "          await google.colab.output.renderOutput(dataTable, element);\n",
              "          const docLink = document.createElement('div');\n",
              "          docLink.innerHTML = docLinkHtml;\n",
              "          element.appendChild(docLink);\n",
              "        }\n",
              "      </script>\n",
              "    </div>\n",
              "  </div>\n",
              "  "
            ]
          },
          "metadata": {},
          "execution_count": 94
        }
      ],
      "source": [
        "summary = pd.DataFrame(model2.history.history)\n",
        "summary.head()"
      ]
    },
    {
      "cell_type": "code",
      "execution_count": 95,
      "metadata": {
        "id": "zyO6Cmv_sl9d",
        "colab": {
          "base_uri": "https://localhost:8080/",
          "height": 265
        },
        "outputId": "3e4053e6-590f-42e0-c6ad-b8873dc9ad32"
      },
      "outputs": [
        {
          "output_type": "display_data",
          "data": {
            "text/plain": [
              "<Figure size 432x288 with 1 Axes>"
            ],
            "image/png": "[encoded data removed]"
          },
          "metadata": {
            "needs_background": "light"
          }
        }
      ],
      "source": [
        "summary[[\"loss\", \"val_loss\"]].plot();"
      ]
    },
    {
      "cell_type": "code",
      "execution_count": 96,
      "metadata": {
        "id": "_D-FnA7Ksl9d",
        "colab": {
          "base_uri": "https://localhost:8080/",
          "height": 265
        },
        "outputId": "728dba6c-3544-4f8d-8541-293d30be64d5"
      },
      "outputs": [
        {
          "output_type": "display_data",
          "data": {
            "text/plain": [
              "<Figure size 432x288 with 1 Axes>"
            ],
            "image/png": "[encoded data removed]"
          },
          "metadata": {
            "needs_background": "light"
          }
        }
      ],
      "source": [
        "summary[[\"accuracy\", \"val_accuracy\"]].plot();"
      ]
    },
    {
      "cell_type": "markdown",
      "metadata": {
        "id": "F2bTLAvQsl9d"
      },
      "source": [
        "# Evaluation on Test Data"
      ]
    },
    {
      "cell_type": "code",
      "execution_count": 97,
      "metadata": {
        "id": "rKRt861Wsl9e",
        "colab": {
          "base_uri": "https://localhost:8080/"
        },
        "outputId": "deb5a5bd-1900-41d0-a8f2-30e31403d828"
      },
      "outputs": [
        {
          "output_type": "stream",
          "name": "stdout",
          "text": [
            "82/82 [==============================] - 12s 147ms/step - loss: 0.1583 - accuracy: 0.9477\n",
            "Test loss: 0.15828534960746765\n",
            "Test accuracy: 0.947692334651947\n"
          ]
        }
      ],
      "source": [
        "score = model2.evaluate(test_image_gen)\n",
        "print('Test loss:', score[0])\n",
        "print('Test accuracy:', score[1])"
      ]
    },
    {
      "cell_type": "code",
      "execution_count": 98,
      "metadata": {
        "id": "kP3oobifsl9e"
      },
      "outputs": [],
      "source": [
        "pred_prob = model2.predict(test_image_gen)"
      ]
    },
    {
      "cell_type": "code",
      "execution_count": 99,
      "metadata": {
        "id": "93Jub8WGsl9f"
      },
      "outputs": [],
      "source": [
        "y_pred = pred_prob > 0.5"
      ]
    },
    {
      "cell_type": "code",
      "execution_count": 100,
      "metadata": {
        "id": "sTWX-UTMsl9f",
        "colab": {
          "base_uri": "https://localhost:8080/"
        },
        "outputId": "37a3299f-9f4e-4ab7-cbd6-21f702fc5f75"
      },
      "outputs": [
        {
          "output_type": "stream",
          "name": "stdout",
          "text": [
            "              precision    recall  f1-score   support\n",
            "\n",
            "           0       0.97      0.93      0.95      1300\n",
            "           1       0.94      0.97      0.95      1300\n",
            "\n",
            "    accuracy                           0.95      2600\n",
            "   macro avg       0.95      0.95      0.95      2600\n",
            "weighted avg       0.95      0.95      0.95      2600\n",
            "\n"
          ]
        }
      ],
      "source": [
        "print(classification_report(y_test, y_pred))"
      ]
    },
    {
      "cell_type": "code",
      "execution_count": 101,
      "metadata": {
        "id": "oUdsEhpJsl9g",
        "colab": {
          "base_uri": "https://localhost:8080/"
        },
        "outputId": "0b11a877-d235-41b4-84a4-b3f466dad6bc"
      },
      "outputs": [
        {
          "output_type": "execute_result",
          "data": {
            "text/plain": [
              "array([[1215,   85],\n",
              "       [  39, 1261]])"
            ]
          },
          "metadata": {},
          "execution_count": 101
        }
      ],
      "source": [
        "confusion_matrix(y_test, y_pred)"
      ]
    },
    {
      "cell_type": "code",
      "execution_count": 102,
      "metadata": {
        "id": "WR3JOvQhsl9g"
      },
      "outputs": [],
      "source": [
        "model2.save('malaria_model.h5')"
      ]
    },
    {
      "cell_type": "markdown",
      "metadata": {
        "id": "k17LqDfKsl9g"
      },
      "source": [
        "# Prediction"
      ]
    },
    {
      "cell_type": "code",
      "execution_count": 103,
      "metadata": {
        "id": "HMDO0Dgv194o"
      },
      "outputs": [],
      "source": [
        "from tensorflow.keras.models import load_model\n",
        "from tensorflow.keras.preprocessing import image"
      ]
    },
    {
      "cell_type": "code",
      "execution_count": 104,
      "metadata": {
        "id": "p4_7g3rEDiJ7"
      },
      "outputs": [],
      "source": [
        "model=load_model('malaria_model.h5')"
      ]
    },
    {
      "cell_type": "code",
      "execution_count": 105,
      "metadata": {
        "id": "PLkgTS3cGHTv",
        "colab": {
          "base_uri": "https://localhost:8080/",
          "height": 35
        },
        "outputId": "199cb995-e5ad-4ae3-99d0-a5e77fa7acc9"
      },
      "outputs": [
        {
          "output_type": "execute_result",
          "data": {
            "text/plain": [
              "'uninfected'"
            ],
            "application/vnd.google.colaboratory.intrinsic+json": {
              "type": "string"
            }
          },
          "metadata": {},
          "execution_count": 105
        }
      ],
      "source": [
        "target_class=random.choice(class_names)\n",
        "target_class"
      ]
    },
    {
      "cell_type": "code",
      "execution_count": 106,
      "metadata": {
        "id": "8paR170UBXzt",
        "colab": {
          "base_uri": "https://localhost:8080/"
        },
        "outputId": "44bdb9f2-233f-4be8-886d-badf9a12d3f0"
      },
      "outputs": [
        {
          "output_type": "execute_result",
          "data": {
            "text/plain": [
              "['C59P20thinF_IMG_20150803_111333_cell_48.png']"
            ]
          },
          "metadata": {},
          "execution_count": 106
        }
      ],
      "source": [
        "random_image = random.sample(os.listdir(test_path + target_class), 1)\n",
        "random_image"
      ]
    },
    {
      "cell_type": "code",
      "execution_count": 107,
      "metadata": {
        "id": "oeLS4RgHCCm6",
        "colab": {
          "base_uri": "https://localhost:8080/",
          "height": 35
        },
        "outputId": "c2910bd9-da63-443b-8d73-88ff47887785"
      },
      "outputs": [
        {
          "output_type": "execute_result",
          "data": {
            "text/plain": [
              "'cell_images/test/uninfected/C59P20thinF_IMG_20150803_111333_cell_48.png'"
            ],
            "application/vnd.google.colaboratory.intrinsic+json": {
              "type": "string"
            }
          },
          "metadata": {},
          "execution_count": 107
        }
      ],
      "source": [
        "image_path = test_path + target_class + \"/\" + random_image[0]\n",
        "image_path"
      ]
    },
    {
      "cell_type": "code",
      "execution_count": 108,
      "metadata": {
        "id": "RCxuuqwOsl9h"
      },
      "outputs": [],
      "source": [
        "my_image = image.load_img(image_path, target_size=image_shape)"
      ]
    },
    {
      "cell_type": "code",
      "execution_count": 109,
      "metadata": {
        "id": "3GtFgC0gsl9h",
        "colab": {
          "base_uri": "https://localhost:8080/",
          "height": 147
        },
        "outputId": "59da18bd-a1a3-40ff-ae3f-8e4f8829a0ee"
      },
      "outputs": [
        {
          "output_type": "execute_result",
          "data": {
            "text/plain": [
              "<PIL.Image.Image image mode=RGB size=130x130 at 0x7F91E62B5690>"
            ],
            "image/png": "[encoded data removed]"
          },
          "metadata": {},
          "execution_count": 109
        }
      ],
      "source": [
        "my_image"
      ]
    },
    {
      "cell_type": "code",
      "execution_count": 110,
      "metadata": {
        "id": "-wfKWRy55R_1",
        "colab": {
          "base_uri": "https://localhost:8080/"
        },
        "outputId": "b32c0832-7295-4c88-ec8b-e529c7eec2cd"
      },
      "outputs": [
        {
          "output_type": "execute_result",
          "data": {
            "text/plain": [
              "PIL.Image.Image"
            ]
          },
          "metadata": {},
          "execution_count": 110
        }
      ],
      "source": [
        "type(my_image)"
      ]
    },
    {
      "cell_type": "code",
      "execution_count": 111,
      "metadata": {
        "id": "Q9J8ngv-TVIV"
      },
      "outputs": [],
      "source": [
        "#my_image = np.array(my_image)\n",
        "my_image = image.img_to_array(my_image)"
      ]
    },
    {
      "cell_type": "code",
      "execution_count": 112,
      "metadata": {
        "id": "IJfZ-ILKsl9i",
        "colab": {
          "base_uri": "https://localhost:8080/"
        },
        "outputId": "bd315c02-3b96-4a76-97ba-670bfd5aa676"
      },
      "outputs": [
        {
          "output_type": "execute_result",
          "data": {
            "text/plain": [
              "(130, 130, 3)"
            ]
          },
          "metadata": {},
          "execution_count": 112
        }
      ],
      "source": [
        "my_image.shape"
      ]
    },
    {
      "cell_type": "code",
      "execution_count": 113,
      "metadata": {
        "id": "n9-XbB8Rsl9i"
      },
      "outputs": [],
      "source": [
        "my_image = np.expand_dims(my_image, axis=0)"
      ]
    },
    {
      "cell_type": "code",
      "execution_count": 114,
      "metadata": {
        "id": "ZuV5DH_fsl9i",
        "colab": {
          "base_uri": "https://localhost:8080/"
        },
        "outputId": "9405a2fd-d114-4744-f883-7e96e4a2c8ca"
      },
      "outputs": [
        {
          "output_type": "execute_result",
          "data": {
            "text/plain": [
              "(1, 130, 130, 3)"
            ]
          },
          "metadata": {},
          "execution_count": 114
        }
      ],
      "source": [
        "my_image.shape"
      ]
    },
    {
      "cell_type": "code",
      "execution_count": 115,
      "metadata": {
        "id": "p5wQ4c6Zsl9i",
        "colab": {
          "base_uri": "https://localhost:8080/"
        },
        "outputId": "752392bf-ecd3-4129-cd89-91f5993041ba"
      },
      "outputs": [
        {
          "output_type": "execute_result",
          "data": {
            "text/plain": [
              "array([[0.97367924]], dtype=float32)"
            ]
          },
          "metadata": {},
          "execution_count": 115
        }
      ],
      "source": [
        "model.predict(my_image)"
      ]
    },
    {
      "cell_type": "code",
      "execution_count": 116,
      "metadata": {
        "id": "ETuvfYOksl9i",
        "colab": {
          "base_uri": "https://localhost:8080/"
        },
        "outputId": "0bdea4ed-61f1-4206-fc5f-f5700ec2b091"
      },
      "outputs": [
        {
          "output_type": "execute_result",
          "data": {
            "text/plain": [
              "{'parasitized': 0, 'uninfected': 1}"
            ]
          },
          "metadata": {},
          "execution_count": 116
        }
      ],
      "source": [
        "train_image_gen.class_indices"
      ]
    },
    {
      "cell_type": "code",
      "execution_count": 117,
      "metadata": {
        "id": "v9okpvkVD_aM"
      },
      "outputs": [],
      "source": [
        "def pred_and_plot(model, img_size):\n",
        "  \"\"\"\n",
        "  Imports an image located at filename, makes a prediction on it with\n",
        "  a trained model and plots the image with the predicted class as the title.\n",
        "  \"\"\"\n",
        "  # Import the target image and preprocess it\n",
        "  target_class=random.choice(class_names)\n",
        "  random_image = random.sample(os.listdir(test_path + target_class), 1)\n",
        "  img_path = test_path + target_class + \"/\" + random_image[0]\n",
        "  img = image.load_img(img_path, target_size=img_size)\n",
        "  img = np.array(img)\n",
        "  \n",
        "  # Make a prediction\n",
        "  pred = model.predict(np.expand_dims(img, axis=0))\n",
        "  print(\"prediction_probability: \", pred.max())\n",
        "\n",
        "  # Get the predicted class\n",
        "  if len(pred[0]) > 1: # check for multi-class\n",
        "    pred_class = class_names[pred.argmax()] # if more than one output, take the max\n",
        "  else:\n",
        "    pred_class = class_names[int(tf.round(pred)[0][0])] # if only one output, round\n",
        "\n",
        "  # Plot the image and predicted class\n",
        "  plt.imshow(img)\n",
        "  plt.title(f\"Prediction: {pred_class}\")\n",
        "  plt.axis(False);"
      ]
    },
    {
      "cell_type": "code",
      "execution_count": 118,
      "metadata": {
        "id": "In7S6mq_HLvu",
        "colab": {
          "base_uri": "https://localhost:8080/",
          "height": 281
        },
        "outputId": "2d451ddf-545f-40cf-9fc6-a2c0d1b63552"
      },
      "outputs": [
        {
          "output_type": "stream",
          "name": "stdout",
          "text": [
            "prediction_probability:  5.929087e-05\n"
          ]
        },
        {
          "output_type": "display_data",
          "data": {
            "text/plain": [
              "<Figure size 432x288 with 1 Axes>"
            ],
            "image/png": "[encoded data removed]"
          },
          "metadata": {
            "needs_background": "light"
          }
        }
      ],
      "source": [
        "pred_and_plot(model, (130, 130))"
      ]
    }
  ],
  "metadata": {
    "accelerator": "GPU",
    "colab": {
      "collapsed_sections": [],
      "name": "DL_S7_(Image_Classification_with_CNN_Malaria)_colab.ipynb",
      "provenance": []
    },
    "kernelspec": {
      "display_name": "Python 3",
      "language": "python",
      "name": "python3"
    },
    "language_info": {
      "codemirror_mode": {
        "name": "ipython",
        "version": 3
      },
      "file_extension": ".py",
      "mimetype": "text/x-python",
      "name": "python",
      "nbconvert_exporter": "python",
      "pygments_lexer": "ipython3",
      "version": "3.7.6"
    },
    "toc": {
      "base_numbering": 1,
      "nav_menu": {},
      "number_sections": false,
      "sideBar": true,
      "skip_h1_title": false,
      "title_cell": "Table of Contents",
      "title_sidebar": "Contents",
      "toc_cell": false,
      "toc_position": {},
      "toc_section_display": true,
      "toc_window_display": true
    },
    "gpuClass": "standard"
  },
  "nbformat": 4,
  "nbformat_minor": 0
}